{
  "nbformat": 4,
  "nbformat_minor": 0,
  "metadata": {
    "colab": {
      "name": "Copy of Bidaf - 2.ipynb",
      "provenance": [],
      "collapsed_sections": [
        "mCBcLyx3Nbxf",
        "_308YKMwNgth"
      ],
      "toc_visible": true
    },
    "kernelspec": {
      "name": "python3",
      "display_name": "Python 3"
    },
    "language_info": {
      "name": "python"
    },
    "accelerator": "GPU"
  },
  "cells": [
    {
      "cell_type": "markdown",
      "metadata": {
        "id": "T9i56yp0NRSG"
      },
      "source": [
        "# Preparing the dataset"
      ]
    },
    {
      "cell_type": "code",
      "metadata": {
        "id": "OF9WLMq-NNGJ",
        "colab": {
          "base_uri": "https://localhost:8080/"
        },
        "outputId": "4b89886c-270a-4814-ea1e-359babdf0195"
      },
      "source": [
        "import numpy as np\n",
        "import pandas as pd\n",
        "import json\n",
        "import tensorflow as tf\n",
        "import matplotlib.pyplot as plt\n",
        "import random\n",
        "import string\n",
        "import nltk\n",
        "nltk.download('punkt')"
      ],
      "execution_count": null,
      "outputs": [
        {
          "output_type": "stream",
          "text": [
            "[nltk_data] Downloading package punkt to /root/nltk_data...\n",
            "[nltk_data]   Unzipping tokenizers/punkt.zip.\n"
          ],
          "name": "stdout"
        },
        {
          "output_type": "execute_result",
          "data": {
            "text/plain": [
              "True"
            ]
          },
          "metadata": {
            "tags": []
          },
          "execution_count": 2
        }
      ]
    },
    {
      "cell_type": "code",
      "metadata": {
        "id": "MULu04KBLG01"
      },
      "source": [
        "#!pip install numpy==1.19.3"
      ],
      "execution_count": null,
      "outputs": []
    },
    {
      "cell_type": "code",
      "metadata": {
        "colab": {
          "base_uri": "https://localhost:8080/",
          "height": 35
        },
        "id": "SOOEkpg1h5VN",
        "outputId": "563dce89-de38-4ac0-e2b5-6c88a440316d"
      },
      "source": [
        "import numpy\n",
        "numpy.version.version"
      ],
      "execution_count": null,
      "outputs": [
        {
          "output_type": "execute_result",
          "data": {
            "application/vnd.google.colaboratory.intrinsic+json": {
              "type": "string"
            },
            "text/plain": [
              "'1.19.5'"
            ]
          },
          "metadata": {
            "tags": []
          },
          "execution_count": 4
        }
      ]
    },
    {
      "cell_type": "code",
      "metadata": {
        "id": "cZr1bSmdNbK8",
        "colab": {
          "base_uri": "https://localhost:8080/"
        },
        "outputId": "f877e3d7-3b13-4d3f-f16e-b8d57476bdb1"
      },
      "source": [
        "! pip install pymagnitude\n",
        "from pymagnitude import Magnitude, MagnitudeUtils"
      ],
      "execution_count": null,
      "outputs": [
        {
          "output_type": "stream",
          "text": [
            "Collecting pymagnitude\n",
            "\u001b[?25l  Downloading https://files.pythonhosted.org/packages/69/40/ec05f0630f6dd56eb323dee5bc70a52e4f21247185d8662d3d08267cc6c7/pymagnitude-0.1.143.tar.gz (5.4MB)\n",
            "\u001b[K     |████████████████████████████████| 5.4MB 6.6MB/s \n",
            "\u001b[?25hBuilding wheels for collected packages: pymagnitude\n",
            "  Building wheel for pymagnitude (setup.py) ... \u001b[?25l\u001b[?25hdone\n",
            "  Created wheel for pymagnitude: filename=pymagnitude-0.1.143-cp37-cp37m-linux_x86_64.whl size=360626360 sha256=9af9821a6ec9c75d3e84540c0d109ce537c28328b14d74f4853ccd920c3f4e8d\n",
            "  Stored in directory: /root/.cache/pip/wheels/bb/b2/16/f88eb50800667ffe23d509c7e2157923a08d10ed6d6410124f\n",
            "Successfully built pymagnitude\n",
            "Installing collected packages: pymagnitude\n",
            "Successfully installed pymagnitude-0.1.143\n"
          ],
          "name": "stdout"
        }
      ]
    },
    {
      "cell_type": "code",
      "metadata": {
        "id": "p6l9Rg9gsAC1"
      },
      "source": [
        "glove = Magnitude(MagnitudeUtils.download_model('glove/medium/glove.6B.{}d'.format(100),download_dir='/content/drive/MyDrive/Projects/Machine Comprehension'))\n",
        "fasttext = Magnitude(MagnitudeUtils.download_model('fasttext/medium/wiki-news-300d-1M-subword',download_dir='/content/drive/MyDrive/Projects/Machine Comprehension'))\n",
        "vectors = Magnitude(glove, fasttext)"
      ],
      "execution_count": null,
      "outputs": []
    },
    {
      "cell_type": "code",
      "metadata": {
        "id": "p--9JemPr__8"
      },
      "source": [
        "json_file='/content/drive/MyDrive/train-v2.0.json'\n",
        "with open(json_file) as f:\n",
        "  data = json.load(f)"
      ],
      "execution_count": null,
      "outputs": []
    },
    {
      "cell_type": "code",
      "metadata": {
        "id": "6qMGD9kByhTZ"
      },
      "source": [
        "# Refine the data\n",
        "context=[]\n",
        "ans_start=[]\n",
        "ans_txt=[]\n",
        "question=[]\n",
        "\n",
        "for i in data['data']:\n",
        "  for j in i['paragraphs']:\n",
        "    c=j['context']\n",
        "    if len(c.split())<300:\n",
        "      for k in j['qas']:\n",
        "        q=k['question']\n",
        "        #a=k['answers'][0]\n",
        "        is_pos=k['is_impossible']\n",
        "        if is_pos==False:\n",
        "          a=k['answers'][0]\n",
        "          context.append(c)\n",
        "          question.append(q)\n",
        "          ans_txt.append(a['text'])\n",
        "          ans_start.append(a['answer_start'])"
      ],
      "execution_count": null,
      "outputs": []
    },
    {
      "cell_type": "code",
      "metadata": {
        "colab": {
          "base_uri": "https://localhost:8080/"
        },
        "id": "qZ2T4riupsRv",
        "outputId": "36d18ebf-02e6-4965-9d10-32c22ab12349"
      },
      "source": [
        "# Use tensorflow preprocessing APIs\n",
        "\n",
        "# create tokenizer\n",
        "\n",
        "dataset=context+question\n",
        "tokenizer=tf.keras.preprocessing.text.Tokenizer(oov_token='<OOV>')\n",
        "tokenizer.fit_on_texts(dataset)\n",
        "\n",
        "# Tokenize the data\n",
        "\n",
        "contexti=tokenizer.texts_to_sequences(context)\n",
        "questioni=tokenizer.texts_to_sequences(question)\n",
        "ansi=tokenizer.texts_to_sequences(ans_txt)\n",
        "\n",
        "# Calculate the start and end index\n",
        "start_ind=[]\n",
        "end_ind=[]\n",
        "for i in range(len(context)):\n",
        "  st=len(tokenizer.texts_to_sequences([context[i][:ans_start[i]]])[0])\n",
        "  start_ind.append(st)\n",
        "  end_ind.append(st+len(ansi[i])-1)\n",
        "\n",
        "\n",
        "# Validating results\n",
        "print('Actual answers:\\n',ans_txt[200:210])\n",
        "txt=[contexti[i][start_ind[i]:end_ind[i]+1] for i in range(200,210,1)]\n",
        "t=[]\n",
        "for j in txt:\n",
        "  t.append([tokenizer.index_word[i] for i in j])\n",
        "print('\\n\\n')\n",
        "print('Answers by indexes:\\n',t)"
      ],
      "execution_count": null,
      "outputs": [
        {
          "output_type": "stream",
          "text": [
            "Actual answers:\n",
            " ['2010', '2010', 'the Great Wall of China', '2010', 'her mother', 'During the break', 'nine months', 'a hiatus', 'her mother', 'her father']\n",
            "\n",
            "\n",
            "\n",
            "Answers by indexes:\n",
            " [['2010'], ['2010'], ['the', 'great', 'wall', 'of', 'china'], ['2010'], ['her', \"mother's\"], ['during', 'the', 'break'], ['nine', 'months'], ['a', 'hiatus'], ['her', \"mother's\"], ['her', 'father']]\n"
          ],
          "name": "stdout"
        }
      ]
    },
    {
      "cell_type": "code",
      "metadata": {
        "id": "RJt_IIVGZ0zo"
      },
      "source": [
        "# Add padding token to tokenizer\n",
        "tokenizer.word_index['<PAD>']=0\n",
        "tokenizer.index_word[0]='<PAD>'"
      ],
      "execution_count": null,
      "outputs": []
    },
    {
      "cell_type": "code",
      "metadata": {
        "id": "PaRhANK94uGE"
      },
      "source": [
        "# Use NLTK\n",
        "\n",
        "# tokenize the data\n",
        "def tokenize(data):\n",
        "  processed_data=[]\n",
        "  for i in data:\n",
        "    temp=i.lower()\n",
        "    temp=\"\".join([char for char in temp if char not in string.punctuation])\n",
        "    processed_data.append(nltk.word_tokenize(temp))\n",
        "  return processed_data\n",
        "\n",
        "# Tokenize the data\n",
        "processed_con=tokenize(context)\n",
        "processed_que=tokenize(question)\n",
        "processed_ans=tokenize(ans_txt)\n",
        "\n",
        "\n",
        "# Calculate the start and end index\n",
        "start_ind=[]\n",
        "end_ind=[]\n",
        "for i in range(len(context)):\n",
        "  st=len(tokenize([context[i][:ans_start[i]]])[0])\n",
        "  start_ind.append(st)\n",
        "  end_ind.append(st+len(processed_ans[i])-1)\n",
        "\n",
        "# Validating results\n",
        "print('Actual answers:\\n',ans_txt[200:210])\n",
        "txt=[processed_con[i][start_ind[i]:end_ind[i]+1] for i in range(200,210,1)]\n",
        "print('\\n\\n')\n",
        "print('Answers by indexes:\\n',txt)"
      ],
      "execution_count": null,
      "outputs": []
    },
    {
      "cell_type": "code",
      "metadata": {
        "colab": {
          "base_uri": "https://localhost:8080/",
          "height": 349
        },
        "id": "YPrKjI9U0GHh",
        "outputId": "b2186d35-e5b9-499a-bac9-5bba4ccb8fec"
      },
      "source": [
        "# Padding the data\n",
        "print('For context:\\n')\n",
        "\n",
        "lenths=[len(i) for i in contexti]\n",
        "plt.hist(lenths,bins=50)\n",
        "plt.show()\n",
        "\n",
        "print('\\n\\nMax Length:',max(lenths))"
      ],
      "execution_count": null,
      "outputs": [
        {
          "output_type": "stream",
          "text": [
            "For context:\n",
            "\n"
          ],
          "name": "stdout"
        },
        {
          "output_type": "display_data",
          "data": {
            "image/png": "[encoded data removed]",
            "text/plain": [
              "<Figure size 432x288 with 1 Axes>"
            ]
          },
          "metadata": {
            "tags": [],
            "needs_background": "light"
          }
        },
        {
          "output_type": "stream",
          "text": [
            "\n",
            "\n",
            "Max Length: 306\n"
          ],
          "name": "stdout"
        }
      ]
    },
    {
      "cell_type": "code",
      "metadata": {
        "colab": {
          "base_uri": "https://localhost:8080/",
          "height": 349
        },
        "id": "KRokNa_r0GE-",
        "outputId": "f6094779-e7ee-4e60-e9d5-1a384c2c1e90"
      },
      "source": [
        "# Padding the data\n",
        "print('For question:\\n')\n",
        "\n",
        "lenths=[len(i) for i in questioni]\n",
        "plt.hist(lenths,bins=50)\n",
        "plt.show()\n",
        "\n",
        "print('\\n\\nMax Length:',max(lenths))"
      ],
      "execution_count": null,
      "outputs": [
        {
          "output_type": "stream",
          "text": [
            "For question:\n",
            "\n"
          ],
          "name": "stdout"
        },
        {
          "output_type": "display_data",
          "data": {
            "image/png": "[encoded data removed]",
            "text/plain": [
              "<Figure size 432x288 with 1 Axes>"
            ]
          },
          "metadata": {
            "tags": [],
            "needs_background": "light"
          }
        },
        {
          "output_type": "stream",
          "text": [
            "\n",
            "\n",
            "Max Length: 40\n"
          ],
          "name": "stdout"
        }
      ]
    },
    {
      "cell_type": "code",
      "metadata": {
        "id": "LPiWD6O3yhMI"
      },
      "source": [
        "# Padding\n",
        "con_pad=tf.keras.preprocessing.sequence.pad_sequences(contexti,padding='post',truncating='post')\n",
        "que_pad=tf.keras.preprocessing.sequence.pad_sequences(questioni,padding='post',truncating='post')\n",
        "con_pad=con_pad[:-8]\n",
        "que_pad=que_pad[:-8]\n",
        "start_ind=start_ind[:-8]\n",
        "end_ind=end_ind[:-8]"
      ],
      "execution_count": null,
      "outputs": []
    },
    {
      "cell_type": "code",
      "metadata": {
        "id": "ggqhTlVEtcsJ"
      },
      "source": [
        "# Create embedding matrix\n",
        "def create_mat(token,emb_dim,vect):\n",
        "  mat=np.zeros((len(token.word_index)+1,emb_dim))\n",
        "  for i in range(1,len(token.word_index)+1):\n",
        "    emb=vect.query([token.index_word[i]])\n",
        "    emb=emb.reshape((emb_dim))\n",
        "    mat[i]=emb\n",
        "  return mat"
      ],
      "execution_count": null,
      "outputs": []
    },
    {
      "cell_type": "code",
      "metadata": {
        "id": "IOOCLKcMyhGH"
      },
      "source": [
        "# test the function\n",
        "emb_mat=create_mat(tokenizer,400,vectors)"
      ],
      "execution_count": null,
      "outputs": []
    },
    {
      "cell_type": "code",
      "metadata": {
        "id": "jsc6ykiH2A19"
      },
      "source": [
        "# Alternative create embedding matrix\n",
        "\n",
        "def create_matrix(token,emb_dim,vect):\n",
        "  mat=np.zeros((len(token.word_index)+1,emb_dim))\n",
        "  a=list(token.index_word.values())\n",
        "  emb=vectors.query(a)\n",
        "  for i in range(1,len(token.word_index)+1):\n",
        "    mat[i]=emb[i-1]\n",
        "  return mat"
      ],
      "execution_count": null,
      "outputs": []
    },
    {
      "cell_type": "code",
      "metadata": {
        "id": "iQFikkST3ZFh"
      },
      "source": [
        "# Test the function\n",
        "emb_mat2=create_matrix(tokenizer,400,vectors)"
      ],
      "execution_count": null,
      "outputs": []
    },
    {
      "cell_type": "code",
      "metadata": {
        "colab": {
          "base_uri": "https://localhost:8080/"
        },
        "id": "Q6qCt5uE3l6t",
        "outputId": "e5379de1-a80e-4429-e421-fc552ef637c2"
      },
      "source": [
        "(emb_mat2==emb_mat).all()"
      ],
      "execution_count": null,
      "outputs": [
        {
          "output_type": "execute_result",
          "data": {
            "text/plain": [
              "True"
            ]
          },
          "metadata": {
            "tags": []
          },
          "execution_count": 20
        }
      ]
    },
    {
      "cell_type": "code",
      "metadata": {
        "id": "xa88a_8caYi-"
      },
      "source": [
        "# Save the tokenizer\n",
        "import pickle\n",
        "\n",
        "# saving\n",
        "with open('/content/drive/MyDrive/tokenizer.pickle', 'wb') as handle:\n",
        "    pickle.dump(tokenizer, handle, protocol=pickle.HIGHEST_PROTOCOL)\n",
        "\n",
        "# loading\n",
        "#with open('/content/drive/MyDrive/Projects/MachineComprehension/tokenizer.pickle', 'rb') as handle:\n",
        "#    tokenizer = pickle.load(handle)"
      ],
      "execution_count": null,
      "outputs": []
    },
    {
      "cell_type": "code",
      "metadata": {
        "colab": {
          "base_uri": "https://localhost:8080/"
        },
        "id": "N9ntme7eZA6z",
        "outputId": "6a5d144b-659a-47c4-f937-8287bf64e141"
      },
      "source": [
        "tokenizer.word_index['<OOV>']"
      ],
      "execution_count": null,
      "outputs": [
        {
          "output_type": "execute_result",
          "data": {
            "text/plain": [
              "1"
            ]
          },
          "metadata": {
            "tags": []
          },
          "execution_count": 19
        }
      ]
    },
    {
      "cell_type": "code",
      "metadata": {
        "colab": {
          "base_uri": "https://localhost:8080/"
        },
        "id": "H0utFBy81H4m",
        "outputId": "c9d1c2c9-1aaf-4a74-d933-cd8e89fef031"
      },
      "source": [
        "emb_mat2.shape"
      ],
      "execution_count": null,
      "outputs": [
        {
          "output_type": "execute_result",
          "data": {
            "text/plain": [
              "(90918, 400)"
            ]
          },
          "metadata": {
            "tags": []
          },
          "execution_count": 20
        }
      ]
    },
    {
      "cell_type": "code",
      "metadata": {
        "id": "_xhr1zGn1H2C",
        "colab": {
          "base_uri": "https://localhost:8080/"
        },
        "outputId": "6b8e2f17-e830-43e5-b4da-1b25211ad8bf"
      },
      "source": [
        "(len(start_ind)-8)/80"
      ],
      "execution_count": null,
      "outputs": [
        {
          "output_type": "execute_result",
          "data": {
            "text/plain": [
              "1077.9"
            ]
          },
          "metadata": {
            "tags": []
          },
          "execution_count": 19
        }
      ]
    },
    {
      "cell_type": "code",
      "metadata": {
        "id": "A_7b9GBRdkzg",
        "colab": {
          "base_uri": "https://localhost:8080/"
        },
        "outputId": "eb436172-2863-4655-ef18-dee1989f9d1c"
      },
      "source": [
        "len(start_ind)/80"
      ],
      "execution_count": null,
      "outputs": [
        {
          "output_type": "execute_result",
          "data": {
            "text/plain": [
              "1078.0"
            ]
          },
          "metadata": {
            "tags": []
          },
          "execution_count": 21
        }
      ]
    },
    {
      "cell_type": "code",
      "metadata": {
        "id": "xt12amb4dkvZ"
      },
      "source": [
        ""
      ],
      "execution_count": null,
      "outputs": []
    },
    {
      "cell_type": "markdown",
      "metadata": {
        "id": "mCBcLyx3Nbxf"
      },
      "source": [
        "# Define model components"
      ]
    },
    {
      "cell_type": "markdown",
      "metadata": {
        "id": "_308YKMwNgth"
      },
      "source": [
        "##Highway"
      ]
    },
    {
      "cell_type": "code",
      "metadata": {
        "id": "wX3bloBuNe8N",
        "colab": {
          "base_uri": "https://localhost:8080/"
        },
        "outputId": "2c447688-90d9-4f6c-9198-bbc3c60649fd"
      },
      "source": [
        "'''\n",
        "class Highway(tf.keras.Model):\n",
        "  def __init__(self,d,gate_bias=-1,activation='sigmoid'):\n",
        "    super(Highway,self).__init__()\n",
        "    initializer = tf.keras.initializers.Constant(gate_bias)\n",
        "    self.transform_gate=tf.keras.layers.Dense(d,activation='sigmoid',bias_initializer=initializer)\n",
        "    self.lamb=tf.keras.layers.Lambda(lambda x:1.0-x)\n",
        "    self.normal=tf.keras.layers.Dense(d,activation)\n",
        "\n",
        "\n",
        "  def call(self,inputs):\n",
        "    normal=self.normal(inputs)\n",
        "    transform=self.transform_gate(inputs)\n",
        "    carry=self.lamb(transform)\n",
        "\n",
        "    # implementing the gates\n",
        "    carry_gate =tf.keras.layers.Multiply()([carry,inputs])\n",
        "    transform_gate=tf.keras.layers.Multiply()([normal,transform])\n",
        "\n",
        "    # final addition\n",
        "    out=tf.keras.layers.Add()([transform_gate,carry_gate])\n",
        "    return out\n",
        "\n",
        "'''\n"
      ],
      "execution_count": null,
      "outputs": [
        {
          "output_type": "execute_result",
          "data": {
            "application/vnd.google.colaboratory.intrinsic+json": {
              "type": "string"
            },
            "text/plain": [
              "\"\\nclass Highway(tf.keras.Model):\\n  def __init__(self,d,gate_bias=-1,activation='sigmoid'):\\n    super(Highway,self).__init__()\\n    initializer = tf.keras.initializers.Constant(gate_bias)\\n    self.transform_gate=tf.keras.layers.Dense(d,activation='sigmoid',bias_initializer=initializer)\\n    self.lamb=tf.keras.layers.Lambda(lambda x:1.0-x)\\n    self.normal=tf.keras.layers.Dense(d,activation)\\n\\n\\n  def call(self,inputs):\\n    normal=self.normal(inputs)\\n    transform=self.transform_gate(inputs)\\n    carry=self.lamb(transform)\\n\\n    # implementing the gates\\n    carry_gate =tf.keras.layers.Multiply()([carry,inputs])\\n    transform_gate=tf.keras.layers.Multiply()([normal,transform])\\n\\n    # final addition\\n    out=tf.keras.layers.Add()([transform_gate,carry_gate])\\n    return out\\n\\n\""
            ]
          },
          "metadata": {
            "tags": []
          },
          "execution_count": 21
        }
      ]
    },
    {
      "cell_type": "code",
      "metadata": {
        "id": "RvlH0bXWZrOt"
      },
      "source": [
        "def highway(inp,gate_bias=-1,activation='relu'):\n",
        "  d=inp.shape[-1]\n",
        "  initializer = tf.keras.initializers.Constant(gate_bias)\n",
        "  normal=tf.keras.layers.Dense(d,activation)(inp)\n",
        "  transform=tf.keras.layers.Dense(d,activation='sigmoid',bias_initializer=initializer)(inp)\n",
        "  carry=tf.keras.layers.Lambda(lambda x:1.0-x)(transform)\n",
        "  \n",
        "\n",
        "  # implementing the gates\n",
        "  carry_gate =tf.keras.layers.Multiply()([carry,inp])\n",
        "  transform_gate=tf.keras.layers.Multiply()([normal,transform])\n",
        "\n",
        "  #final Addition\n",
        "  out=tf.keras.layers.Add()([transform_gate,carry_gate])\n",
        "\n",
        "  return out\n",
        "\n"
      ],
      "execution_count": null,
      "outputs": []
    },
    {
      "cell_type": "code",
      "metadata": {
        "colab": {
          "base_uri": "https://localhost:8080/"
        },
        "id": "EL-u60RGpNKm",
        "outputId": "a781d7ad-278d-48a3-8a09-a4cab15e1f44"
      },
      "source": [
        "# testing the highway\n",
        "a=tf.random.uniform((5,4))\n",
        "inp=tf.keras.Input((5,4))\n",
        "#high=Highway(4,activation='relu')\n",
        "out=highway(inp)\n",
        "out"
      ],
      "execution_count": null,
      "outputs": [
        {
          "output_type": "execute_result",
          "data": {
            "text/plain": [
              "<KerasTensor: shape=(None, 5, 4) dtype=float32 (created by layer 'add')>"
            ]
          },
          "metadata": {
            "tags": []
          },
          "execution_count": 23
        }
      ]
    },
    {
      "cell_type": "code",
      "metadata": {
        "id": "UMbplEdJsG3S"
      },
      "source": [
        ""
      ],
      "execution_count": null,
      "outputs": []
    },
    {
      "cell_type": "markdown",
      "metadata": {
        "id": "VNyotG_WvcH3"
      },
      "source": [
        "## Attention Block:\n",
        "\n",
        "   1. Similarity matrix (Filter)\n",
        "   2. Context to Query\n",
        "   3. Query to Context\n",
        "   \n",
        "Merge all of them together "
      ]
    },
    {
      "cell_type": "markdown",
      "metadata": {
        "id": "lNZugItowRJ5"
      },
      "source": [
        "###Similarity Matrix"
      ]
    },
    {
      "cell_type": "code",
      "metadata": {
        "id": "YqTFLzgOwN9M"
      },
      "source": [
        "class Similarity_mat(tf.keras.layers.Layer):\n",
        "  def __init__(self):\n",
        "    super(Similarity_mat,self).__init__()\n",
        "  \n",
        "  def build(self,input_shape):\n",
        "    #print(input_shape)\n",
        "    d=input_shape[0][-1]*3\n",
        "\n",
        "    self.kernal=self.add_weight(name='kernal',shape=(d,1))\n",
        "    self.bias=self.add_weight(name='Bias',shape=([1]))\n",
        "  \n",
        "  def call(self,inputs):\n",
        "    con,que=inputs\n",
        "    con_ext=tf.concat([[1], [con.shape[1]], [1,1]], 0)\n",
        "    que_ext=tf.concat([[1,1], [que.shape[1]], [1]], 0)\n",
        "\n",
        "    con_sim=tf.tile(tf.expand_dims(con,axis=2),que_ext)\n",
        "    que_sim=tf.tile(tf.expand_dims(que,axis=1),con_ext)\n",
        "\n",
        "    sim_mat=con_sim*que_sim\n",
        "    conc_mat=tf.concat([con_sim,que_sim,sim_mat],axis=-1)\n",
        "\n",
        "    out=tf.squeeze(tf.matmul(conc_mat,self.kernal),axis=-1)+self.bias\n",
        "    return out"
      ],
      "execution_count": null,
      "outputs": []
    },
    {
      "cell_type": "code",
      "metadata": {
        "colab": {
          "base_uri": "https://localhost:8080/"
        },
        "id": "FA4qAWIsxal7",
        "outputId": "e857b790-b3d4-48f9-f7fa-ddc5c2bcfda1"
      },
      "source": [
        "# Test the layer\n",
        "con=tf.random.uniform((2,10,4))\n",
        "que=tf.random.uniform((2,5,4))\n",
        "\n",
        "l=Similarity_mat()\n",
        "o=l([con,que])\n",
        "o"
      ],
      "execution_count": null,
      "outputs": [
        {
          "output_type": "execute_result",
          "data": {
            "text/plain": [
              "<tf.Tensor: shape=(2, 10, 5), dtype=float32, numpy=\n",
              "array([[[ 0.49783552,  0.11556756,  0.29361224,  0.9529166 ,\n",
              "          1.0999489 ],\n",
              "        [ 0.7349323 ,  0.366589  ,  0.5633375 ,  1.320235  ,\n",
              "          1.5197687 ],\n",
              "        [ 0.8875408 ,  0.40162706,  0.63360584,  1.4265683 ,\n",
              "          1.6192727 ],\n",
              "        [ 0.8060663 ,  0.3998176 ,  0.58433825,  1.3597357 ,\n",
              "          1.5681778 ],\n",
              "        [ 0.6999629 ,  0.04197657,  0.42067206,  1.2547152 ,\n",
              "          1.404132  ],\n",
              "        [ 0.6536979 , -0.1211319 ,  0.31689817,  1.2050028 ,\n",
              "          1.3522646 ],\n",
              "        [ 0.7547089 ,  0.11066103,  0.4653114 ,  1.3085297 ,\n",
              "          1.4723039 ],\n",
              "        [ 0.7962766 ,  0.0752809 ,  0.48582315,  1.235604  ,\n",
              "          1.3160194 ],\n",
              "        [ 0.6330513 ,  0.14382803,  0.3585714 ,  1.0500695 ,\n",
              "          1.1891322 ],\n",
              "        [ 0.35326886, -0.398278  ,  0.02123952,  0.77507967,\n",
              "          0.8536968 ]],\n",
              "\n",
              "       [[ 0.4129343 ,  0.38940346,  0.5592282 ,  1.0748017 ,\n",
              "          0.6873298 ],\n",
              "        [ 0.4808188 ,  0.33781952,  0.80837744,  1.3162549 ,\n",
              "          0.6290659 ],\n",
              "        [ 0.08376384,  0.05387366,  0.27323377,  0.7261763 ,\n",
              "          0.27430153],\n",
              "        [ 0.09750044, -0.07493448,  0.30862182,  0.762394  ,\n",
              "          0.2608881 ],\n",
              "        [ 0.4760158 ,  0.35313356,  0.78761214,  1.3020359 ,\n",
              "          0.6420214 ],\n",
              "        [ 0.30582672,  0.28020442,  0.4817412 ,  0.9867358 ,\n",
              "          0.5532682 ],\n",
              "        [ 0.20918846,  0.0813669 ,  0.3387044 ,  0.870044  ,\n",
              "          0.49859452],\n",
              "        [-0.06088245, -0.15506876,  0.07574928,  0.55983317,\n",
              "          0.18432713],\n",
              "        [ 0.02126598, -0.23603785,  0.22234845,  0.69343185,\n",
              "          0.19850409],\n",
              "        [-0.06615102, -0.09797299,  0.12136924,  0.56965536,\n",
              "          0.12178421]]], dtype=float32)>"
            ]
          },
          "metadata": {
            "tags": []
          },
          "execution_count": 25
        }
      ]
    },
    {
      "cell_type": "code",
      "metadata": {
        "id": "5eiSDVLoyEXj"
      },
      "source": [
        ""
      ],
      "execution_count": null,
      "outputs": []
    },
    {
      "cell_type": "markdown",
      "metadata": {
        "id": "F2iX72iTzjXs"
      },
      "source": [
        "### Context to Query\n",
        "\n",
        "It signifies which query words are more significant to each context word"
      ]
    },
    {
      "cell_type": "code",
      "metadata": {
        "id": "oCbGfngASJsZ"
      },
      "source": [
        "def c2q(sim_mat,que):\n",
        "  # take the sigmoid of similarity matrix\n",
        "  x=tf.keras.activations.softmax(sim_mat,axis=-1)\n",
        "  x=tf.expand_dims(x,axis=-1)\n",
        "  que_ex=tf.expand_dims(que,axis=1)\n",
        "\n",
        "  out=x*que_ex\n",
        "  out=tf.reduce_sum(out,axis=2)\n",
        "  return out"
      ],
      "execution_count": null,
      "outputs": []
    },
    {
      "cell_type": "code",
      "metadata": {
        "colab": {
          "base_uri": "https://localhost:8080/"
        },
        "id": "5_h0U32Lzn37",
        "outputId": "0c0ff998-2414-42ac-d826-48eb0269ae8e"
      },
      "source": [
        "# Test the function\n",
        "\n",
        "sim_mat=tf.random.uniform((2,10,5))\n",
        "que=tf.random.uniform((2,5,4))\n",
        "o=c2q(sim_mat,que)\n",
        "o"
      ],
      "execution_count": null,
      "outputs": [
        {
          "output_type": "execute_result",
          "data": {
            "text/plain": [
              "<tf.Tensor: shape=(2, 10, 4), dtype=float32, numpy=\n",
              "array([[[0.42768022, 0.48250565, 0.37371314, 0.54764193],\n",
              "        [0.49119115, 0.514154  , 0.4152186 , 0.5008731 ],\n",
              "        [0.41522652, 0.51432526, 0.365065  , 0.54043955],\n",
              "        [0.4346239 , 0.54420245, 0.36954585, 0.5658714 ],\n",
              "        [0.43866363, 0.45306605, 0.41086173, 0.46359307],\n",
              "        [0.44107574, 0.49781156, 0.4003593 , 0.4592835 ],\n",
              "        [0.4846804 , 0.51774055, 0.41462913, 0.5162557 ],\n",
              "        [0.48346603, 0.48077905, 0.399416  , 0.54729474],\n",
              "        [0.43306082, 0.4721166 , 0.3972862 , 0.48749408],\n",
              "        [0.42231798, 0.42701718, 0.42306736, 0.4248899 ]],\n",
              "\n",
              "       [[0.34485194, 0.41136712, 0.412336  , 0.5772737 ],\n",
              "        [0.30558333, 0.4659555 , 0.39514303, 0.5787742 ],\n",
              "        [0.37816307, 0.37358132, 0.432589  , 0.629611  ],\n",
              "        [0.36269698, 0.44326115, 0.37489223, 0.5658411 ],\n",
              "        [0.35079128, 0.38874057, 0.4509751 , 0.67269313],\n",
              "        [0.31793165, 0.4389173 , 0.42277405, 0.6345227 ],\n",
              "        [0.34408614, 0.37200487, 0.46211672, 0.6643737 ],\n",
              "        [0.41506666, 0.3784601 , 0.40863392, 0.64538467],\n",
              "        [0.41525653, 0.3646576 , 0.41732782, 0.6418964 ],\n",
              "        [0.345999  , 0.39952856, 0.44293097, 0.6717746 ]]], dtype=float32)>"
            ]
          },
          "metadata": {
            "tags": []
          },
          "execution_count": 27
        }
      ]
    },
    {
      "cell_type": "markdown",
      "metadata": {
        "id": "A4Y1Xhp4gDi2"
      },
      "source": [
        "### Query to context\n",
        "\n",
        "It signifies which word in question is most significant to each context word"
      ]
    },
    {
      "cell_type": "code",
      "metadata": {
        "id": "WjUsAO-zgDSc"
      },
      "source": [
        "\n",
        "def q2c(sim_mat,con):\n",
        "  x=tf.math.reduce_max(sim_mat,axis=-1)\n",
        "  x=tf.keras.activations.softmax(x,axis=-1)\n",
        "  x=tf.expand_dims(x,axis=-1)\n",
        "\n",
        "  x=x*con\n",
        "  x=tf.math.reduce_sum(x,axis=1)\n",
        "  x=tf.expand_dims(x,axis=1)\n",
        "  dim=[1,con.shape[1],1]\n",
        "  x=tf.tile(x,dim)\n",
        "  return x\n"
      ],
      "execution_count": null,
      "outputs": []
    },
    {
      "cell_type": "code",
      "metadata": {
        "colab": {
          "base_uri": "https://localhost:8080/"
        },
        "id": "d_ZyDMeGwajE",
        "outputId": "dd68212e-6c4b-4d3a-94f2-c5b1cf921ef8"
      },
      "source": [
        "# testing the function\n",
        "sim_mat=tf.random.uniform((2,10,5))\n",
        "con=tf.random.uniform((2,10,4))\n",
        "out=q2c(sim_mat,con)\n",
        "out"
      ],
      "execution_count": null,
      "outputs": [
        {
          "output_type": "execute_result",
          "data": {
            "text/plain": [
              "<tf.Tensor: shape=(2, 10, 4), dtype=float32, numpy=\n",
              "array([[[0.48802045, 0.5563464 , 0.5317598 , 0.49655947],\n",
              "        [0.48802045, 0.5563464 , 0.5317598 , 0.49655947],\n",
              "        [0.48802045, 0.5563464 , 0.5317598 , 0.49655947],\n",
              "        [0.48802045, 0.5563464 , 0.5317598 , 0.49655947],\n",
              "        [0.48802045, 0.5563464 , 0.5317598 , 0.49655947],\n",
              "        [0.48802045, 0.5563464 , 0.5317598 , 0.49655947],\n",
              "        [0.48802045, 0.5563464 , 0.5317598 , 0.49655947],\n",
              "        [0.48802045, 0.5563464 , 0.5317598 , 0.49655947],\n",
              "        [0.48802045, 0.5563464 , 0.5317598 , 0.49655947],\n",
              "        [0.48802045, 0.5563464 , 0.5317598 , 0.49655947]],\n",
              "\n",
              "       [[0.30607775, 0.58526516, 0.3651368 , 0.3494672 ],\n",
              "        [0.30607775, 0.58526516, 0.3651368 , 0.3494672 ],\n",
              "        [0.30607775, 0.58526516, 0.3651368 , 0.3494672 ],\n",
              "        [0.30607775, 0.58526516, 0.3651368 , 0.3494672 ],\n",
              "        [0.30607775, 0.58526516, 0.3651368 , 0.3494672 ],\n",
              "        [0.30607775, 0.58526516, 0.3651368 , 0.3494672 ],\n",
              "        [0.30607775, 0.58526516, 0.3651368 , 0.3494672 ],\n",
              "        [0.30607775, 0.58526516, 0.3651368 , 0.3494672 ],\n",
              "        [0.30607775, 0.58526516, 0.3651368 , 0.3494672 ],\n",
              "        [0.30607775, 0.58526516, 0.3651368 , 0.3494672 ]]], dtype=float32)>"
            ]
          },
          "metadata": {
            "tags": []
          },
          "execution_count": 29
        }
      ]
    },
    {
      "cell_type": "code",
      "metadata": {
        "id": "W_IPlb-NUZ42"
      },
      "source": [
        ""
      ],
      "execution_count": null,
      "outputs": []
    },
    {
      "cell_type": "markdown",
      "metadata": {
        "id": "qSjCTMUR6sJ8"
      },
      "source": [
        "### Merge the attention matrices"
      ]
    },
    {
      "cell_type": "code",
      "metadata": {
        "id": "EqZWyWHf6yUI"
      },
      "source": [
        "def merge(con,q2c,c2q):\n",
        "  con_u=con*c2q\n",
        "  con_h=con*q2c\n",
        "  out=tf.concat([con,c2q,con_u,con_h],axis=-1)\n",
        "  return out"
      ],
      "execution_count": null,
      "outputs": []
    },
    {
      "cell_type": "code",
      "metadata": {
        "colab": {
          "base_uri": "https://localhost:8080/"
        },
        "id": "CUcOqIef-93M",
        "outputId": "fe054279-9d0a-43cc-8255-ce3a980fd713"
      },
      "source": [
        "# test the merge\n",
        "a=tf.random.uniform((2,10,4))\n",
        "b=tf.random.uniform((2,10,4))\n",
        "c=tf.random.uniform((2,10,4))\n",
        "m=merge(a,b,c)\n",
        "m"
      ],
      "execution_count": null,
      "outputs": [
        {
          "output_type": "execute_result",
          "data": {
            "text/plain": [
              "<tf.Tensor: shape=(2, 10, 16), dtype=float32, numpy=\n",
              "array([[[0.00740635, 0.82789123, 0.43284023, 0.69870806, 0.94010067,\n",
              "         0.3424394 , 0.10357153, 0.13262129, 0.00696272, 0.28350258,\n",
              "         0.04482993, 0.09266356, 0.00216673, 0.5203431 , 0.01016636,\n",
              "         0.4087619 ],\n",
              "        [0.8192793 , 0.43693793, 0.04942513, 0.10189927, 0.8802798 ,\n",
              "         0.96062434, 0.41098177, 0.16715932, 0.72119504, 0.4197332 ,\n",
              "         0.02031283, 0.01703341, 0.34152046, 0.2292463 , 0.01753321,\n",
              "         0.0183794 ],\n",
              "        [0.8527087 , 0.34181213, 0.79315376, 0.6923145 , 0.09281695,\n",
              "         0.03580725, 0.8787019 , 0.10524666, 0.07914582, 0.01223935,\n",
              "         0.6969457 , 0.07286379, 0.5329208 , 0.03298912, 0.43233496,\n",
              "         0.04309337],\n",
              "        [0.13980198, 0.52134657, 0.48397946, 0.73810136, 0.7150831 ,\n",
              "         0.80320525, 0.9600233 , 0.02227736, 0.09997004, 0.4187483 ,\n",
              "         0.46463156, 0.01644295, 0.07473277, 0.10720503, 0.11517761,\n",
              "         0.38354573],\n",
              "        [0.56164074, 0.37174666, 0.36442995, 0.4870484 , 0.6759528 ,\n",
              "         0.39967465, 0.13976777, 0.7529509 , 0.37964264, 0.14857772,\n",
              "         0.05093556, 0.36672354, 0.06461259, 0.165916  , 0.14573848,\n",
              "         0.45706394],\n",
              "        [0.66450596, 0.76895   , 0.25805104, 0.16729832, 0.48341691,\n",
              "         0.6310072 , 0.5419769 , 0.57459736, 0.32123342, 0.48521298,\n",
              "         0.13985771, 0.09612917, 0.491536  , 0.43236917, 0.14707415,\n",
              "         0.03054359],\n",
              "        [0.21703124, 0.79183567, 0.1843822 , 0.61117315, 0.2176708 ,\n",
              "         0.7146542 , 0.8415438 , 0.8163111 , 0.04724136, 0.5658887 ,\n",
              "         0.1551657 , 0.49890745, 0.00589823, 0.6296824 , 0.02785497,\n",
              "         0.42919576],\n",
              "        [0.47343588, 0.43424618, 0.12717044, 0.91627717, 0.7340987 ,\n",
              "         0.3603673 , 0.795066  , 0.42121828, 0.34754866, 0.15648812,\n",
              "         0.10110889, 0.38595268, 0.10546815, 0.35243884, 0.08895404,\n",
              "         0.5897117 ],\n",
              "        [0.31904292, 0.67742014, 0.6663134 , 0.20700932, 0.20381272,\n",
              "         0.2876469 , 0.69644666, 0.9382843 , 0.065025  , 0.19485779,\n",
              "         0.46405175, 0.19423358, 0.22403142, 0.07958981, 0.34363186,\n",
              "         0.01894571],\n",
              "        [0.9574137 , 0.81518567, 0.3757074 , 0.5869658 , 0.30205262,\n",
              "         0.8944731 , 0.14103901, 0.9393884 , 0.2891893 , 0.7291616 ,\n",
              "         0.0529894 , 0.55138886, 0.76381713, 0.51865304, 0.08856176,\n",
              "         0.2931042 ]],\n",
              "\n",
              "       [[0.7504797 , 0.22341263, 0.32411337, 0.32790422, 0.13475513,\n",
              "         0.56551445, 0.15844476, 0.54527366, 0.10113099, 0.12634307,\n",
              "         0.05135407, 0.17879754, 0.50219315, 0.08058657, 0.25859582,\n",
              "         0.224399  ],\n",
              "        [0.5928329 , 0.03410614, 0.26219153, 0.2806102 , 0.12722969,\n",
              "         0.9187341 , 0.80912757, 0.12582028, 0.07542595, 0.03133447,\n",
              "         0.2121464 , 0.03530645, 0.39321825, 0.02919426, 0.1371272 ,\n",
              "         0.08946545],\n",
              "        [0.3980534 , 0.8899418 , 0.24108505, 0.52748895, 0.54679155,\n",
              "         0.47936428, 0.95242   , 0.2815342 , 0.21765225, 0.4266063 ,\n",
              "         0.22961423, 0.14850618, 0.11528975, 0.8651252 , 0.1541826 ,\n",
              "         0.01074967],\n",
              "        [0.5808381 , 0.6210704 , 0.82696295, 0.2698928 , 0.6779058 ,\n",
              "         0.10993874, 0.7845036 , 0.7924657 , 0.3937535 , 0.0682797 ,\n",
              "         0.6487554 , 0.21388079, 0.25168887, 0.57353187, 0.80377436,\n",
              "         0.02267627],\n",
              "        [0.38565326, 0.96033144, 0.5657816 , 0.03914595, 0.01733279,\n",
              "         0.7828331 , 0.35652566, 0.78758526, 0.00668445, 0.75177926,\n",
              "         0.20171566, 0.03083077, 0.3663019 , 0.30399626, 0.02708028,\n",
              "         0.0226341 ],\n",
              "        [0.6761006 , 0.94484305, 0.9448379 , 0.12857258, 0.5409055 ,\n",
              "         0.95857584, 0.16659248, 0.5715884 , 0.36570653, 0.9057037 ,\n",
              "         0.15740289, 0.0734906 , 0.5913093 , 0.9309238 , 0.23923515,\n",
              "         0.11265687],\n",
              "        [0.33158505, 0.55314195, 0.7300452 , 0.06402504, 0.06152475,\n",
              "         0.9162148 , 0.7998669 , 0.08215129, 0.02040069, 0.50679684,\n",
              "         0.583939  , 0.00525974, 0.2769426 , 0.4525806 , 0.7039224 ,\n",
              "         0.01107606],\n",
              "        [0.031582  , 0.73924387, 0.7940599 , 0.9959643 , 0.8493459 ,\n",
              "         0.82362044, 0.7295532 , 0.11070752, 0.02682404, 0.6088564 ,\n",
              "         0.5793089 , 0.11026074, 0.00104775, 0.5781067 , 0.26859003,\n",
              "         0.32266203],\n",
              "        [0.6523024 , 0.09771287, 0.19551373, 0.53842676, 0.1156702 ,\n",
              "         0.13700187, 0.7947109 , 0.3892399 , 0.07545195, 0.01338685,\n",
              "         0.15537688, 0.20957719, 0.6510056 , 0.07714465, 0.08828772,\n",
              "         0.01274858],\n",
              "        [0.4421761 , 0.36255026, 0.72876704, 0.8396497 , 0.8024918 ,\n",
              "         0.8602972 , 0.676785  , 0.6202315 , 0.3548427 , 0.31190097,\n",
              "         0.4932186 , 0.52077717, 0.26282275, 0.00312649, 0.15779713,\n",
              "         0.50339526]]], dtype=float32)>"
            ]
          },
          "metadata": {
            "tags": []
          },
          "execution_count": 31
        }
      ]
    },
    {
      "cell_type": "code",
      "metadata": {
        "id": "uiqwXMD8AwGp"
      },
      "source": [
        ""
      ],
      "execution_count": null,
      "outputs": []
    },
    {
      "cell_type": "markdown",
      "metadata": {
        "id": "dsV5kT4d_8ri"
      },
      "source": [
        "## End probabilities"
      ]
    },
    {
      "cell_type": "markdown",
      "metadata": {
        "id": "OoS9V42XACQ4"
      },
      "source": [
        "### Span beginning"
      ]
    },
    {
      "cell_type": "code",
      "metadata": {
        "id": "ZXEsjo63AgIh"
      },
      "source": [
        "a=tf.random.uniform((2,10,4))\n",
        "b=tf.random.uniform((2,10,4))"
      ],
      "execution_count": null,
      "outputs": []
    },
    {
      "cell_type": "code",
      "metadata": {
        "id": "ACRqS8f9BbEX"
      },
      "source": [
        "def span_begin(con,con_bi):\n",
        "  x=tf.concat([con,con_bi],axis=-1)\n",
        "  x=tf.keras.layers.Dense(1)(x)\n",
        "  x=tf.squeeze(x,axis=-1)\n",
        "  x=tf.keras.activations.softmax(x)\n",
        "  return x\n"
      ],
      "execution_count": null,
      "outputs": []
    },
    {
      "cell_type": "code",
      "metadata": {
        "id": "SzN0dQcMDD83",
        "colab": {
          "base_uri": "https://localhost:8080/"
        },
        "outputId": "080f7dbd-7302-4e09-c45a-8c0ec61edd17"
      },
      "source": [
        "out=span_begin(a,b)\n",
        "out"
      ],
      "execution_count": null,
      "outputs": [
        {
          "output_type": "execute_result",
          "data": {
            "text/plain": [
              "<tf.Tensor: shape=(2, 10), dtype=float32, numpy=\n",
              "array([[0.09590983, 0.09636606, 0.1895913 , 0.08301583, 0.09023683,\n",
              "        0.07993202, 0.08252659, 0.05253887, 0.0910651 , 0.13881758],\n",
              "       [0.05418015, 0.06873824, 0.11953975, 0.0783857 , 0.10754579,\n",
              "        0.19288799, 0.15872072, 0.07449931, 0.04696571, 0.09853675]],\n",
              "      dtype=float32)>"
            ]
          },
          "metadata": {
            "tags": []
          },
          "execution_count": 34
        }
      ]
    },
    {
      "cell_type": "code",
      "metadata": {
        "id": "TaAn75HfjtRc"
      },
      "source": [
        ""
      ],
      "execution_count": null,
      "outputs": []
    },
    {
      "cell_type": "markdown",
      "metadata": {
        "id": "kYno8P7ezSfm"
      },
      "source": [
        "###Span End"
      ]
    },
    {
      "cell_type": "code",
      "metadata": {
        "id": "VuX2PwFMzT5e"
      },
      "source": [
        "# check the weghted passage matrix\n",
        "enc=tf.random.uniform((2,10,4))\n",
        "con2=tf.random.uniform((2,10,4))\n",
        "con3=tf.random.uniform((2,10,4))\n",
        "pro=tf.random.uniform((2,10))"
      ],
      "execution_count": null,
      "outputs": []
    },
    {
      "cell_type": "code",
      "metadata": {
        "id": "Av40WOdrIPC3"
      },
      "source": [
        "def span_end(enc_con,merge_con,model_con,prob):\n",
        "\n",
        "  # calculated weighted modeled context based on span begin probabilities\n",
        "  prob=tf.expand_dims(prob,axis=-1)\n",
        "  weight=prob*model_con\n",
        "  weight_sum=tf.math.reduce_sum(weight,axis=-2)\n",
        "  weight_sum=tf.expand_dims(weight_sum,axis=1)\n",
        "  weights_exp=tf.tile(weight_sum,[1,enc_con.shape[1],1])\n",
        "  weighted_con=weights_exp*model_con\n",
        "\n",
        "  # Bi_directional lstm\n",
        "  x=tf.concat([merge_con,model_con,weights_exp,weighted_con],axis=-1)\n",
        "  x=tf.keras.layers.Bidirectional(tf.keras.layers.LSTM(enc_con.shape[-1]//2,return_sequences=True))(x)\n",
        "\n",
        "  # Calculate end probabilities\n",
        "  x=tf.concat([merge_con,x],axis=-1)\n",
        "  x=tf.keras.layers.Dense(1)(x)\n",
        "  x=tf.squeeze(x,axis=-1)\n",
        "  x=tf.keras.activations.softmax(x)\n",
        "  return x\n"
      ],
      "execution_count": null,
      "outputs": []
    },
    {
      "cell_type": "code",
      "metadata": {
        "colab": {
          "base_uri": "https://localhost:8080/"
        },
        "id": "EvXib0M7TzUl",
        "outputId": "615c4989-13d8-458e-9d1b-1f6cfb055523"
      },
      "source": [
        "# Test span end\n",
        "out=span_end(enc,con2,con3,pro)\n",
        "out"
      ],
      "execution_count": null,
      "outputs": [
        {
          "output_type": "execute_result",
          "data": {
            "text/plain": [
              "<tf.Tensor: shape=(2, 10), dtype=float32, numpy=\n",
              "array([[0.11764732, 0.12769248, 0.13116644, 0.07342897, 0.10690735,\n",
              "        0.10427736, 0.07301491, 0.08737235, 0.09458038, 0.08391247],\n",
              "       [0.11333249, 0.09971631, 0.13132755, 0.11726771, 0.06019392,\n",
              "        0.10231456, 0.05700663, 0.07202399, 0.16110112, 0.0857157 ]],\n",
              "      dtype=float32)>"
            ]
          },
          "metadata": {
            "tags": []
          },
          "execution_count": 37
        }
      ]
    },
    {
      "cell_type": "code",
      "metadata": {
        "id": "L-U2uH6eTzN9"
      },
      "source": [
        ""
      ],
      "execution_count": null,
      "outputs": []
    },
    {
      "cell_type": "code",
      "metadata": {
        "id": "i4f2AcWaTzLj"
      },
      "source": [
        ""
      ],
      "execution_count": null,
      "outputs": []
    },
    {
      "cell_type": "markdown",
      "metadata": {
        "id": "NMz1tBkCVp-T"
      },
      "source": [
        "# Model Building\n",
        "\n",
        "We will use tensorflow functional API to build the model"
      ]
    },
    {
      "cell_type": "code",
      "metadata": {
        "id": "HfFQ9UnyJ6B9"
      },
      "source": [
        "#emb_mat2=tf.random.uniform((90916,400)).numpy()"
      ],
      "execution_count": null,
      "outputs": []
    },
    {
      "cell_type": "code",
      "metadata": {
        "id": "am2RHIDXH4Xb"
      },
      "source": [
        ""
      ],
      "execution_count": null,
      "outputs": []
    },
    {
      "cell_type": "code",
      "metadata": {
        "id": "SZnFiSi-VjUS"
      },
      "source": [
        "# Parameters\n",
        "emb_dim=100\n",
        "dec_layers=2\n",
        "high_layers=2\n",
        "\n",
        "tf.keras.backend.clear_session()\n",
        "\n",
        "# Define input \n",
        "que_inp=tf.keras.Input((40))\n",
        "con_inp=tf.keras.Input((306))\n",
        "\n",
        "# Apply two layers of highways\n",
        "que_embedding=tf.keras.layers.Embedding(90918,400,weights=[emb_mat2],trainable=False)(que_inp)\n",
        "con_embedding=tf.keras.layers.Embedding(90918,400,weights=[emb_mat2],trainable=False)(con_inp)\n",
        "for i in range(high_layers):\n",
        "  que_embedding=highway(que_embedding)\n",
        "  con_embedding=highway(con_embedding)\n",
        "\n",
        "#Encoding layers\n",
        "que_enc=tf.keras.layers.Bidirectional(tf.keras.layers.LSTM(emb_dim,return_sequences=True))(que_embedding)\n",
        "con_enc=tf.keras.layers.Bidirectional(tf.keras.layers.LSTM(emb_dim,return_sequences=True))(con_embedding)\n",
        "\n",
        "# Attention\n",
        "sim_layer = Similarity_mat()\n",
        "similarity_matrix=sim_layer([con_enc,que_enc])\n",
        "con_2_que=c2q(similarity_matrix,que_enc)\n",
        "que_2_con=q2c(similarity_matrix,con_enc)\n",
        "con_merge=merge(con_enc,que_2_con,con_2_que)\n",
        "\n",
        "\n",
        "# Decoderlayers\n",
        "con_dec=con_merge\n",
        "for i in range(dec_layers):\n",
        "  con_dec=tf.keras.layers.Bidirectional(tf.keras.layers.LSTM(emb_dim,return_sequences=True))(con_dec)\n",
        "\n",
        "# Extracting output probabilities\n",
        "begin=span_begin(con_merge,con_dec)\n",
        "end=span_end(con_enc,con_merge,con_dec,begin)\n",
        "\n",
        "# defining model\n",
        "\n",
        "model=tf.keras.Model(inputs=[que_inp,con_inp],outputs=[begin,end])\n"
      ],
      "execution_count": null,
      "outputs": []
    },
    {
      "cell_type": "code",
      "metadata": {
        "colab": {
          "base_uri": "https://localhost:8080/"
        },
        "id": "oh3nw3a8LJU7",
        "outputId": "07391762-783f-4b73-bd54-d3ab6273605b"
      },
      "source": [
        "model.summary()"
      ],
      "execution_count": null,
      "outputs": [
        {
          "output_type": "stream",
          "text": [
            "Model: \"model\"\n",
            "__________________________________________________________________________________________________\n",
            "Layer (type)                    Output Shape         Param #     Connected to                     \n",
            "==================================================================================================\n",
            "input_2 (InputLayer)            [(None, 306)]        0                                            \n",
            "__________________________________________________________________________________________________\n",
            "input_1 (InputLayer)            [(None, 40)]         0                                            \n",
            "__________________________________________________________________________________________________\n",
            "embedding_1 (Embedding)         (None, 306, 400)     36367200    input_2[0][0]                    \n",
            "__________________________________________________________________________________________________\n",
            "embedding (Embedding)           (None, 40, 400)      36367200    input_1[0][0]                    \n",
            "__________________________________________________________________________________________________\n",
            "dense_3 (Dense)                 (None, 306, 400)     160400      embedding_1[0][0]                \n",
            "__________________________________________________________________________________________________\n",
            "dense_1 (Dense)                 (None, 40, 400)      160400      embedding[0][0]                  \n",
            "__________________________________________________________________________________________________\n",
            "dense_2 (Dense)                 (None, 306, 400)     160400      embedding_1[0][0]                \n",
            "__________________________________________________________________________________________________\n",
            "lambda_1 (Lambda)               (None, 306, 400)     0           dense_3[0][0]                    \n",
            "__________________________________________________________________________________________________\n",
            "dense (Dense)                   (None, 40, 400)      160400      embedding[0][0]                  \n",
            "__________________________________________________________________________________________________\n",
            "lambda (Lambda)                 (None, 40, 400)      0           dense_1[0][0]                    \n",
            "__________________________________________________________________________________________________\n",
            "multiply_3 (Multiply)           (None, 306, 400)     0           dense_2[0][0]                    \n",
            "                                                                 dense_3[0][0]                    \n",
            "__________________________________________________________________________________________________\n",
            "multiply_2 (Multiply)           (None, 306, 400)     0           lambda_1[0][0]                   \n",
            "                                                                 embedding_1[0][0]                \n",
            "__________________________________________________________________________________________________\n",
            "multiply_1 (Multiply)           (None, 40, 400)      0           dense[0][0]                      \n",
            "                                                                 dense_1[0][0]                    \n",
            "__________________________________________________________________________________________________\n",
            "multiply (Multiply)             (None, 40, 400)      0           lambda[0][0]                     \n",
            "                                                                 embedding[0][0]                  \n",
            "__________________________________________________________________________________________________\n",
            "add_1 (Add)                     (None, 306, 400)     0           multiply_3[0][0]                 \n",
            "                                                                 multiply_2[0][0]                 \n",
            "__________________________________________________________________________________________________\n",
            "add (Add)                       (None, 40, 400)      0           multiply_1[0][0]                 \n",
            "                                                                 multiply[0][0]                   \n",
            "__________________________________________________________________________________________________\n",
            "dense_7 (Dense)                 (None, 306, 400)     160400      add_1[0][0]                      \n",
            "__________________________________________________________________________________________________\n",
            "dense_5 (Dense)                 (None, 40, 400)      160400      add[0][0]                        \n",
            "__________________________________________________________________________________________________\n",
            "dense_6 (Dense)                 (None, 306, 400)     160400      add_1[0][0]                      \n",
            "__________________________________________________________________________________________________\n",
            "lambda_3 (Lambda)               (None, 306, 400)     0           dense_7[0][0]                    \n",
            "__________________________________________________________________________________________________\n",
            "dense_4 (Dense)                 (None, 40, 400)      160400      add[0][0]                        \n",
            "__________________________________________________________________________________________________\n",
            "lambda_2 (Lambda)               (None, 40, 400)      0           dense_5[0][0]                    \n",
            "__________________________________________________________________________________________________\n",
            "multiply_7 (Multiply)           (None, 306, 400)     0           dense_6[0][0]                    \n",
            "                                                                 dense_7[0][0]                    \n",
            "__________________________________________________________________________________________________\n",
            "multiply_6 (Multiply)           (None, 306, 400)     0           lambda_3[0][0]                   \n",
            "                                                                 add_1[0][0]                      \n",
            "__________________________________________________________________________________________________\n",
            "multiply_5 (Multiply)           (None, 40, 400)      0           dense_4[0][0]                    \n",
            "                                                                 dense_5[0][0]                    \n",
            "__________________________________________________________________________________________________\n",
            "multiply_4 (Multiply)           (None, 40, 400)      0           lambda_2[0][0]                   \n",
            "                                                                 add[0][0]                        \n",
            "__________________________________________________________________________________________________\n",
            "add_3 (Add)                     (None, 306, 400)     0           multiply_7[0][0]                 \n",
            "                                                                 multiply_6[0][0]                 \n",
            "__________________________________________________________________________________________________\n",
            "add_2 (Add)                     (None, 40, 400)      0           multiply_5[0][0]                 \n",
            "                                                                 multiply_4[0][0]                 \n",
            "__________________________________________________________________________________________________\n",
            "bidirectional_1 (Bidirectional) (None, 306, 200)     400800      add_3[0][0]                      \n",
            "__________________________________________________________________________________________________\n",
            "bidirectional (Bidirectional)   (None, 40, 200)      400800      add_2[0][0]                      \n",
            "__________________________________________________________________________________________________\n",
            "similarity_mat (Similarity_mat) (None, 306, 40)      601         bidirectional_1[0][0]            \n",
            "                                                                 bidirectional[0][0]              \n",
            "__________________________________________________________________________________________________\n",
            "tf.math.reduce_max (TFOpLambda) (None, 306, 1)       0           similarity_mat[0][0]             \n",
            "__________________________________________________________________________________________________\n",
            "tf.math.subtract (TFOpLambda)   (None, 306, 40)      0           similarity_mat[0][0]             \n",
            "                                                                 tf.math.reduce_max[0][0]         \n",
            "__________________________________________________________________________________________________\n",
            "tf.math.reduce_max_1 (TFOpLambd (None, 306)          0           similarity_mat[0][0]             \n",
            "__________________________________________________________________________________________________\n",
            "tf.math.exp (TFOpLambda)        (None, 306, 40)      0           tf.math.subtract[0][0]           \n",
            "__________________________________________________________________________________________________\n",
            "tf.compat.v1.nn.softmax (TFOpLa (None, 306)          0           tf.math.reduce_max_1[0][0]       \n",
            "__________________________________________________________________________________________________\n",
            "tf.math.reduce_sum (TFOpLambda) (None, 306, 1)       0           tf.math.exp[0][0]                \n",
            "__________________________________________________________________________________________________\n",
            "tf.expand_dims_2 (TFOpLambda)   (None, 306, 1)       0           tf.compat.v1.nn.softmax[0][0]    \n",
            "__________________________________________________________________________________________________\n",
            "tf.math.truediv (TFOpLambda)    (None, 306, 40)      0           tf.math.exp[0][0]                \n",
            "                                                                 tf.math.reduce_sum[0][0]         \n",
            "__________________________________________________________________________________________________\n",
            "tf.math.multiply_1 (TFOpLambda) (None, 306, 200)     0           tf.expand_dims_2[0][0]           \n",
            "                                                                 bidirectional_1[0][0]            \n",
            "__________________________________________________________________________________________________\n",
            "tf.expand_dims (TFOpLambda)     (None, 306, 40, 1)   0           tf.math.truediv[0][0]            \n",
            "__________________________________________________________________________________________________\n",
            "tf.expand_dims_1 (TFOpLambda)   (None, 1, 40, 200)   0           bidirectional[0][0]              \n",
            "__________________________________________________________________________________________________\n",
            "tf.math.reduce_sum_2 (TFOpLambd (None, 200)          0           tf.math.multiply_1[0][0]         \n",
            "__________________________________________________________________________________________________\n",
            "tf.math.multiply (TFOpLambda)   (None, 306, 40, 200) 0           tf.expand_dims[0][0]             \n",
            "                                                                 tf.expand_dims_1[0][0]           \n",
            "__________________________________________________________________________________________________\n",
            "tf.expand_dims_3 (TFOpLambda)   (None, 1, 200)       0           tf.math.reduce_sum_2[0][0]       \n",
            "__________________________________________________________________________________________________\n",
            "tf.math.reduce_sum_1 (TFOpLambd (None, 306, 200)     0           tf.math.multiply[0][0]           \n",
            "__________________________________________________________________________________________________\n",
            "tf.tile (TFOpLambda)            (None, 306, 200)     0           tf.expand_dims_3[0][0]           \n",
            "__________________________________________________________________________________________________\n",
            "tf.math.multiply_2 (TFOpLambda) (None, 306, 200)     0           bidirectional_1[0][0]            \n",
            "                                                                 tf.math.reduce_sum_1[0][0]       \n",
            "__________________________________________________________________________________________________\n",
            "tf.math.multiply_3 (TFOpLambda) (None, 306, 200)     0           bidirectional_1[0][0]            \n",
            "                                                                 tf.tile[0][0]                    \n",
            "__________________________________________________________________________________________________\n",
            "tf.concat (TFOpLambda)          (None, 306, 800)     0           bidirectional_1[0][0]            \n",
            "                                                                 tf.math.reduce_sum_1[0][0]       \n",
            "                                                                 tf.math.multiply_2[0][0]         \n",
            "                                                                 tf.math.multiply_3[0][0]         \n",
            "__________________________________________________________________________________________________\n",
            "bidirectional_2 (Bidirectional) (None, 306, 200)     720800      tf.concat[0][0]                  \n",
            "__________________________________________________________________________________________________\n",
            "bidirectional_3 (Bidirectional) (None, 306, 200)     240800      bidirectional_2[0][0]            \n",
            "__________________________________________________________________________________________________\n",
            "tf.concat_1 (TFOpLambda)        (None, 306, 1000)    0           tf.concat[0][0]                  \n",
            "                                                                 bidirectional_3[0][0]            \n",
            "__________________________________________________________________________________________________\n",
            "dense_8 (Dense)                 (None, 306, 1)       1001        tf.concat_1[0][0]                \n",
            "__________________________________________________________________________________________________\n",
            "tf.compat.v1.squeeze (TFOpLambd (None, 306)          0           dense_8[0][0]                    \n",
            "__________________________________________________________________________________________________\n",
            "tf.compat.v1.nn.softmax_1 (TFOp (None, 306)          0           tf.compat.v1.squeeze[0][0]       \n",
            "__________________________________________________________________________________________________\n",
            "tf.expand_dims_4 (TFOpLambda)   (None, 306, 1)       0           tf.compat.v1.nn.softmax_1[0][0]  \n",
            "__________________________________________________________________________________________________\n",
            "tf.math.multiply_4 (TFOpLambda) (None, 306, 200)     0           tf.expand_dims_4[0][0]           \n",
            "                                                                 bidirectional_3[0][0]            \n",
            "__________________________________________________________________________________________________\n",
            "tf.math.reduce_sum_3 (TFOpLambd (None, 200)          0           tf.math.multiply_4[0][0]         \n",
            "__________________________________________________________________________________________________\n",
            "tf.expand_dims_5 (TFOpLambda)   (None, 1, 200)       0           tf.math.reduce_sum_3[0][0]       \n",
            "__________________________________________________________________________________________________\n",
            "tf.tile_1 (TFOpLambda)          (None, 306, 200)     0           tf.expand_dims_5[0][0]           \n",
            "__________________________________________________________________________________________________\n",
            "tf.math.multiply_5 (TFOpLambda) (None, 306, 200)     0           tf.tile_1[0][0]                  \n",
            "                                                                 bidirectional_3[0][0]            \n",
            "__________________________________________________________________________________________________\n",
            "tf.concat_2 (TFOpLambda)        (None, 306, 1400)    0           tf.concat[0][0]                  \n",
            "                                                                 bidirectional_3[0][0]            \n",
            "                                                                 tf.tile_1[0][0]                  \n",
            "                                                                 tf.math.multiply_5[0][0]         \n",
            "__________________________________________________________________________________________________\n",
            "bidirectional_4 (Bidirectional) (None, 306, 200)     1200800     tf.concat_2[0][0]                \n",
            "__________________________________________________________________________________________________\n",
            "tf.concat_3 (TFOpLambda)        (None, 306, 1000)    0           tf.concat[0][0]                  \n",
            "                                                                 bidirectional_4[0][0]            \n",
            "__________________________________________________________________________________________________\n",
            "dense_9 (Dense)                 (None, 306, 1)       1001        tf.concat_3[0][0]                \n",
            "__________________________________________________________________________________________________\n",
            "tf.compat.v1.squeeze_1 (TFOpLam (None, 306)          0           dense_9[0][0]                    \n",
            "__________________________________________________________________________________________________\n",
            "tf.compat.v1.nn.softmax_2 (TFOp (None, 306)          0           tf.compat.v1.squeeze_1[0][0]     \n",
            "==================================================================================================\n",
            "Total params: 76,984,203\n",
            "Trainable params: 4,249,803\n",
            "Non-trainable params: 72,734,400\n",
            "__________________________________________________________________________________________________\n"
          ],
          "name": "stdout"
        }
      ]
    },
    {
      "cell_type": "code",
      "metadata": {
        "id": "MPpx_U0lVoW6"
      },
      "source": [
        "# Test the model\n",
        "Q=tf.data.Dataset.from_tensor_slices(que_pad).batch(20)\n",
        "C=tf.data.Dataset.from_tensor_slices(con_pad).batch(20)\n",
        "for i,j in zip(Q,C):\n",
        "  q,c=i,j\n",
        "  break\n",
        "#outputs=model([q,c])"
      ],
      "execution_count": null,
      "outputs": []
    },
    {
      "cell_type": "code",
      "metadata": {
        "id": "DZXWzkXBCrkR",
        "colab": {
          "base_uri": "https://localhost:8080/"
        },
        "outputId": "f988ed31-ce2f-491e-cba5-fcb6a5c684f2"
      },
      "source": [
        "outputs=model([q,c])\n",
        "outputs"
      ],
      "execution_count": null,
      "outputs": [
        {
          "output_type": "execute_result",
          "data": {
            "text/plain": [
              "[<tf.Tensor: shape=(20, 306), dtype=float32, numpy=\n",
              " array([[0.0032979 , 0.00331124, 0.00329385, ..., 0.00328002, 0.00327994,\n",
              "         0.00327992],\n",
              "        [0.00330066, 0.00331382, 0.00329626, ..., 0.00328046, 0.00328041,\n",
              "         0.00328043],\n",
              "        [0.0032979 , 0.00331139, 0.00329428, ..., 0.00327999, 0.00328002,\n",
              "         0.00328007],\n",
              "        ...,\n",
              "        [0.00327032, 0.00326409, 0.00324934, ..., 0.00328381, 0.0032837 ,\n",
              "         0.00328363],\n",
              "        [0.00327102, 0.00326469, 0.00324981, ..., 0.00328356, 0.00328362,\n",
              "         0.00328383],\n",
              "        [0.00326866, 0.00326292, 0.00324855, ..., 0.00328363, 0.00328339,\n",
              "         0.00328302]], dtype=float32)>,\n",
              " <tf.Tensor: shape=(20, 306), dtype=float32, numpy=\n",
              " array([[0.00327199, 0.0032555 , 0.00324262, ..., 0.00328062, 0.00327898,\n",
              "         0.00327707],\n",
              "        [0.00327206, 0.00325612, 0.00324343, ..., 0.00327901, 0.00327731,\n",
              "         0.00327554],\n",
              "        [0.00327426, 0.00325813, 0.00324527, ..., 0.00328025, 0.00327874,\n",
              "         0.0032771 ],\n",
              "        ...,\n",
              "        [0.00324451, 0.00322097, 0.00320274, ..., 0.00328229, 0.00328008,\n",
              "         0.00327757],\n",
              "        [0.00324577, 0.00322193, 0.00320349, ..., 0.00328163, 0.00327975,\n",
              "         0.00327779],\n",
              "        [0.00324459, 0.00322143, 0.00320344, ..., 0.00327959, 0.00327811,\n",
              "         0.00327686]], dtype=float32)>]"
            ]
          },
          "metadata": {
            "tags": []
          },
          "execution_count": 41
        }
      ]
    },
    {
      "cell_type": "code",
      "metadata": {
        "id": "xhyJV_Zfo3gQ"
      },
      "source": [
        ""
      ],
      "execution_count": null,
      "outputs": []
    },
    {
      "cell_type": "code",
      "metadata": {
        "id": "6QHaosaho3cr"
      },
      "source": [
        ""
      ],
      "execution_count": null,
      "outputs": []
    },
    {
      "cell_type": "markdown",
      "metadata": {
        "id": "LThj-GAs4AHZ"
      },
      "source": [
        "# Training and Testing"
      ]
    },
    {
      "cell_type": "code",
      "metadata": {
        "id": "O2of6k6HwrU8"
      },
      "source": [
        "start_ind=np.array(start_ind)\n",
        "end_ind=np.array(end_ind)"
      ],
      "execution_count": null,
      "outputs": []
    },
    {
      "cell_type": "code",
      "metadata": {
        "id": "oG6edWH3k9tR"
      },
      "source": [
        "# Define loss function\n",
        "def loss(y_true,y_pred):\n",
        "  y_true=tf.reshape(y_true,shape=(80,))\n",
        "  def fn(inp):\n",
        "    yt=inp[0]\n",
        "    yp=inp[1]\n",
        "    l=tf.math.log(yp[yt])\n",
        "    return l\n",
        "  l=tf.map_fn(fn,(y_true,y_pred),dtype=(tf.int64,tf.float32),fn_output_signature=tf.float32)\n",
        "  l=tf.math.reduce_mean(l,axis=-1)\n",
        "  return -l"
      ],
      "execution_count": null,
      "outputs": []
    },
    {
      "cell_type": "code",
      "metadata": {
        "id": "7A5FOJHCwZXa"
      },
      "source": [
        ""
      ],
      "execution_count": null,
      "outputs": []
    },
    {
      "cell_type": "code",
      "metadata": {
        "colab": {
          "base_uri": "https://localhost:8080/",
          "height": 370
        },
        "id": "6mTQTclMoWsi",
        "outputId": "cd198893-2676-4915-f8f6-0f824cd6e72f"
      },
      "source": [
        "# Test the function\n",
        "x1=np.array([1]*80).reshape((80))\n",
        "x2=np.array([2]*80).reshape((80))\n",
        "\n",
        "l=loss(x1,outputs[0])\n",
        "l"
      ],
      "execution_count": null,
      "outputs": [
        {
          "output_type": "error",
          "ename": "ValueError",
          "evalue": "ignored",
          "traceback": [
            "\u001b[0;31m---------------------------------------------------------------------------\u001b[0m",
            "\u001b[0;31mValueError\u001b[0m                                Traceback (most recent call last)",
            "\u001b[0;32m<ipython-input-47-ccc6f1a91369>\u001b[0m in \u001b[0;36m<module>\u001b[0;34m()\u001b[0m\n\u001b[1;32m      3\u001b[0m \u001b[0mx2\u001b[0m\u001b[0;34m=\u001b[0m\u001b[0mnp\u001b[0m\u001b[0;34m.\u001b[0m\u001b[0marray\u001b[0m\u001b[0;34m(\u001b[0m\u001b[0;34m[\u001b[0m\u001b[0;36m2\u001b[0m\u001b[0;34m]\u001b[0m\u001b[0;34m*\u001b[0m\u001b[0;36m80\u001b[0m\u001b[0;34m)\u001b[0m\u001b[0;34m.\u001b[0m\u001b[0mreshape\u001b[0m\u001b[0;34m(\u001b[0m\u001b[0;34m(\u001b[0m\u001b[0;36m80\u001b[0m\u001b[0;34m)\u001b[0m\u001b[0;34m)\u001b[0m\u001b[0;34m\u001b[0m\u001b[0;34m\u001b[0m\u001b[0m\n\u001b[1;32m      4\u001b[0m \u001b[0;34m\u001b[0m\u001b[0m\n\u001b[0;32m----> 5\u001b[0;31m \u001b[0ml\u001b[0m\u001b[0;34m=\u001b[0m\u001b[0mloss\u001b[0m\u001b[0;34m(\u001b[0m\u001b[0mx1\u001b[0m\u001b[0;34m,\u001b[0m\u001b[0moutputs\u001b[0m\u001b[0;34m[\u001b[0m\u001b[0;36m0\u001b[0m\u001b[0;34m]\u001b[0m\u001b[0;34m)\u001b[0m\u001b[0;34m\u001b[0m\u001b[0;34m\u001b[0m\u001b[0m\n\u001b[0m\u001b[1;32m      6\u001b[0m \u001b[0ml\u001b[0m\u001b[0;34m\u001b[0m\u001b[0;34m\u001b[0m\u001b[0m\n",
            "\u001b[0;32m<ipython-input-46-d64ea2151847>\u001b[0m in \u001b[0;36mloss\u001b[0;34m(y_true, y_pred)\u001b[0m\n\u001b[1;32m      7\u001b[0m     \u001b[0ml\u001b[0m\u001b[0;34m=\u001b[0m\u001b[0mtf\u001b[0m\u001b[0;34m.\u001b[0m\u001b[0mmath\u001b[0m\u001b[0;34m.\u001b[0m\u001b[0mlog\u001b[0m\u001b[0;34m(\u001b[0m\u001b[0myp\u001b[0m\u001b[0;34m[\u001b[0m\u001b[0myt\u001b[0m\u001b[0;34m]\u001b[0m\u001b[0;34m)\u001b[0m\u001b[0;34m\u001b[0m\u001b[0;34m\u001b[0m\u001b[0m\n\u001b[1;32m      8\u001b[0m     \u001b[0;32mreturn\u001b[0m \u001b[0ml\u001b[0m\u001b[0;34m\u001b[0m\u001b[0;34m\u001b[0m\u001b[0m\n\u001b[0;32m----> 9\u001b[0;31m   \u001b[0ml\u001b[0m\u001b[0;34m=\u001b[0m\u001b[0mtf\u001b[0m\u001b[0;34m.\u001b[0m\u001b[0mmap_fn\u001b[0m\u001b[0;34m(\u001b[0m\u001b[0mfn\u001b[0m\u001b[0;34m,\u001b[0m\u001b[0;34m(\u001b[0m\u001b[0my_true\u001b[0m\u001b[0;34m,\u001b[0m\u001b[0my_pred\u001b[0m\u001b[0;34m)\u001b[0m\u001b[0;34m,\u001b[0m\u001b[0mdtype\u001b[0m\u001b[0;34m=\u001b[0m\u001b[0;34m(\u001b[0m\u001b[0mtf\u001b[0m\u001b[0;34m.\u001b[0m\u001b[0mint64\u001b[0m\u001b[0;34m,\u001b[0m\u001b[0mtf\u001b[0m\u001b[0;34m.\u001b[0m\u001b[0mfloat32\u001b[0m\u001b[0;34m)\u001b[0m\u001b[0;34m,\u001b[0m\u001b[0mfn_output_signature\u001b[0m\u001b[0;34m=\u001b[0m\u001b[0mtf\u001b[0m\u001b[0;34m.\u001b[0m\u001b[0mfloat32\u001b[0m\u001b[0;34m)\u001b[0m\u001b[0;34m\u001b[0m\u001b[0;34m\u001b[0m\u001b[0m\n\u001b[0m\u001b[1;32m     10\u001b[0m   \u001b[0ml\u001b[0m\u001b[0;34m=\u001b[0m\u001b[0mtf\u001b[0m\u001b[0;34m.\u001b[0m\u001b[0mmath\u001b[0m\u001b[0;34m.\u001b[0m\u001b[0mreduce_mean\u001b[0m\u001b[0;34m(\u001b[0m\u001b[0ml\u001b[0m\u001b[0;34m,\u001b[0m\u001b[0maxis\u001b[0m\u001b[0;34m=\u001b[0m\u001b[0;34m-\u001b[0m\u001b[0;36m1\u001b[0m\u001b[0;34m)\u001b[0m\u001b[0;34m\u001b[0m\u001b[0;34m\u001b[0m\u001b[0m\n\u001b[1;32m     11\u001b[0m   \u001b[0;32mreturn\u001b[0m \u001b[0;34m-\u001b[0m\u001b[0ml\u001b[0m\u001b[0;34m\u001b[0m\u001b[0;34m\u001b[0m\u001b[0m\n",
            "\u001b[0;32m/usr/local/lib/python3.7/dist-packages/tensorflow/python/util/deprecation.py\u001b[0m in \u001b[0;36mnew_func\u001b[0;34m(*args, **kwargs)\u001b[0m\n\u001b[1;32m    603\u001b[0m                   \u001b[0mfunc\u001b[0m\u001b[0;34m.\u001b[0m\u001b[0m__module__\u001b[0m\u001b[0;34m,\u001b[0m \u001b[0marg_name\u001b[0m\u001b[0;34m,\u001b[0m \u001b[0marg_value\u001b[0m\u001b[0;34m,\u001b[0m \u001b[0;34m'in a future version'\u001b[0m\u001b[0;34m\u001b[0m\u001b[0;34m\u001b[0m\u001b[0m\n\u001b[1;32m    604\u001b[0m                   if date is None else ('after %s' % date), instructions)\n\u001b[0;32m--> 605\u001b[0;31m       \u001b[0;32mreturn\u001b[0m \u001b[0mfunc\u001b[0m\u001b[0;34m(\u001b[0m\u001b[0;34m*\u001b[0m\u001b[0margs\u001b[0m\u001b[0;34m,\u001b[0m \u001b[0;34m**\u001b[0m\u001b[0mkwargs\u001b[0m\u001b[0;34m)\u001b[0m\u001b[0;34m\u001b[0m\u001b[0;34m\u001b[0m\u001b[0m\n\u001b[0m\u001b[1;32m    606\u001b[0m \u001b[0;34m\u001b[0m\u001b[0m\n\u001b[1;32m    607\u001b[0m     doc = _add_deprecated_arg_value_notice_to_docstring(\n",
            "\u001b[0;32m/usr/local/lib/python3.7/dist-packages/tensorflow/python/util/deprecation.py\u001b[0m in \u001b[0;36mnew_func\u001b[0;34m(*args, **kwargs)\u001b[0m\n\u001b[1;32m    536\u001b[0m                 \u001b[0;34m'in a future version'\u001b[0m \u001b[0;32mif\u001b[0m \u001b[0mdate\u001b[0m \u001b[0;32mis\u001b[0m \u001b[0;32mNone\u001b[0m \u001b[0;32melse\u001b[0m \u001b[0;34m(\u001b[0m\u001b[0;34m'after %s'\u001b[0m \u001b[0;34m%\u001b[0m \u001b[0mdate\u001b[0m\u001b[0;34m)\u001b[0m\u001b[0;34m,\u001b[0m\u001b[0;34m\u001b[0m\u001b[0;34m\u001b[0m\u001b[0m\n\u001b[1;32m    537\u001b[0m                 instructions)\n\u001b[0;32m--> 538\u001b[0;31m       \u001b[0;32mreturn\u001b[0m \u001b[0mfunc\u001b[0m\u001b[0;34m(\u001b[0m\u001b[0;34m*\u001b[0m\u001b[0margs\u001b[0m\u001b[0;34m,\u001b[0m \u001b[0;34m**\u001b[0m\u001b[0mkwargs\u001b[0m\u001b[0;34m)\u001b[0m\u001b[0;34m\u001b[0m\u001b[0;34m\u001b[0m\u001b[0m\n\u001b[0m\u001b[1;32m    539\u001b[0m \u001b[0;34m\u001b[0m\u001b[0m\n\u001b[1;32m    540\u001b[0m     doc = _add_deprecated_arg_notice_to_docstring(\n",
            "\u001b[0;32m/usr/local/lib/python3.7/dist-packages/tensorflow/python/ops/map_fn.py\u001b[0m in \u001b[0;36mmap_fn_v2\u001b[0;34m(fn, elems, dtype, parallel_iterations, back_prop, swap_memory, infer_shape, name, fn_output_signature)\u001b[0m\n\u001b[1;32m    657\u001b[0m       \u001b[0mswap_memory\u001b[0m\u001b[0;34m=\u001b[0m\u001b[0mswap_memory\u001b[0m\u001b[0;34m,\u001b[0m\u001b[0;34m\u001b[0m\u001b[0;34m\u001b[0m\u001b[0m\n\u001b[1;32m    658\u001b[0m       \u001b[0minfer_shape\u001b[0m\u001b[0;34m=\u001b[0m\u001b[0minfer_shape\u001b[0m\u001b[0;34m,\u001b[0m\u001b[0;34m\u001b[0m\u001b[0;34m\u001b[0m\u001b[0m\n\u001b[0;32m--> 659\u001b[0;31m       name=name)\n\u001b[0m\u001b[1;32m    660\u001b[0m \u001b[0;34m\u001b[0m\u001b[0m\n\u001b[1;32m    661\u001b[0m \u001b[0;34m\u001b[0m\u001b[0m\n",
            "\u001b[0;32m/usr/local/lib/python3.7/dist-packages/tensorflow/python/util/deprecation.py\u001b[0m in \u001b[0;36mnew_func\u001b[0;34m(*args, **kwargs)\u001b[0m\n\u001b[1;32m    536\u001b[0m                 \u001b[0;34m'in a future version'\u001b[0m \u001b[0;32mif\u001b[0m \u001b[0mdate\u001b[0m \u001b[0;32mis\u001b[0m \u001b[0;32mNone\u001b[0m \u001b[0;32melse\u001b[0m \u001b[0;34m(\u001b[0m\u001b[0;34m'after %s'\u001b[0m \u001b[0;34m%\u001b[0m \u001b[0mdate\u001b[0m\u001b[0;34m)\u001b[0m\u001b[0;34m,\u001b[0m\u001b[0;34m\u001b[0m\u001b[0;34m\u001b[0m\u001b[0m\n\u001b[1;32m    537\u001b[0m                 instructions)\n\u001b[0;32m--> 538\u001b[0;31m       \u001b[0;32mreturn\u001b[0m \u001b[0mfunc\u001b[0m\u001b[0;34m(\u001b[0m\u001b[0;34m*\u001b[0m\u001b[0margs\u001b[0m\u001b[0;34m,\u001b[0m \u001b[0;34m**\u001b[0m\u001b[0mkwargs\u001b[0m\u001b[0;34m)\u001b[0m\u001b[0;34m\u001b[0m\u001b[0;34m\u001b[0m\u001b[0m\n\u001b[0m\u001b[1;32m    539\u001b[0m \u001b[0;34m\u001b[0m\u001b[0m\n\u001b[1;32m    540\u001b[0m     doc = _add_deprecated_arg_notice_to_docstring(\n",
            "\u001b[0;32m/usr/local/lib/python3.7/dist-packages/tensorflow/python/ops/map_fn.py\u001b[0m in \u001b[0;36mmap_fn\u001b[0;34m(fn, elems, dtype, parallel_iterations, back_prop, swap_memory, infer_shape, name, fn_output_signature)\u001b[0m\n\u001b[1;32m    449\u001b[0m           tensor_shape.Dimension(\n\u001b[1;32m    450\u001b[0m               tensor_shape.dimension_value(\n\u001b[0;32m--> 451\u001b[0;31m                   tensor.get_shape().with_rank_at_least(1)[0])))\n\u001b[0m\u001b[1;32m    452\u001b[0m     \u001b[0mn\u001b[0m \u001b[0;34m=\u001b[0m \u001b[0mn_static\u001b[0m\u001b[0;34m.\u001b[0m\u001b[0mvalue\u001b[0m \u001b[0;32mor\u001b[0m \u001b[0marray_ops\u001b[0m\u001b[0;34m.\u001b[0m\u001b[0mshape\u001b[0m\u001b[0;34m(\u001b[0m\u001b[0melems_batchable\u001b[0m\u001b[0;34m[\u001b[0m\u001b[0;36m0\u001b[0m\u001b[0;34m]\u001b[0m\u001b[0;34m)\u001b[0m\u001b[0;34m[\u001b[0m\u001b[0;36m0\u001b[0m\u001b[0;34m]\u001b[0m\u001b[0;34m\u001b[0m\u001b[0;34m\u001b[0m\u001b[0m\n\u001b[1;32m    453\u001b[0m \u001b[0;34m\u001b[0m\u001b[0m\n",
            "\u001b[0;32m/usr/local/lib/python3.7/dist-packages/tensorflow/python/framework/tensor_shape.py\u001b[0m in \u001b[0;36mmerge_with\u001b[0;34m(self, other)\u001b[0m\n\u001b[1;32m    313\u001b[0m     \"\"\"\n\u001b[1;32m    314\u001b[0m     \u001b[0mother\u001b[0m \u001b[0;34m=\u001b[0m \u001b[0mas_dimension\u001b[0m\u001b[0;34m(\u001b[0m\u001b[0mother\u001b[0m\u001b[0;34m)\u001b[0m\u001b[0;34m\u001b[0m\u001b[0;34m\u001b[0m\u001b[0m\n\u001b[0;32m--> 315\u001b[0;31m     \u001b[0mself\u001b[0m\u001b[0;34m.\u001b[0m\u001b[0massert_is_compatible_with\u001b[0m\u001b[0;34m(\u001b[0m\u001b[0mother\u001b[0m\u001b[0;34m)\u001b[0m\u001b[0;34m\u001b[0m\u001b[0;34m\u001b[0m\u001b[0m\n\u001b[0m\u001b[1;32m    316\u001b[0m     \u001b[0;32mif\u001b[0m \u001b[0mself\u001b[0m\u001b[0;34m.\u001b[0m\u001b[0m_value\u001b[0m \u001b[0;32mis\u001b[0m \u001b[0;32mNone\u001b[0m\u001b[0;34m:\u001b[0m\u001b[0;34m\u001b[0m\u001b[0;34m\u001b[0m\u001b[0m\n\u001b[1;32m    317\u001b[0m       \u001b[0;32mreturn\u001b[0m \u001b[0mDimension\u001b[0m\u001b[0;34m(\u001b[0m\u001b[0mother\u001b[0m\u001b[0;34m.\u001b[0m\u001b[0mvalue\u001b[0m\u001b[0;34m)\u001b[0m\u001b[0;34m\u001b[0m\u001b[0;34m\u001b[0m\u001b[0m\n",
            "\u001b[0;32m/usr/local/lib/python3.7/dist-packages/tensorflow/python/framework/tensor_shape.py\u001b[0m in \u001b[0;36massert_is_compatible_with\u001b[0;34m(self, other)\u001b[0m\n\u001b[1;32m    280\u001b[0m     \u001b[0;32mif\u001b[0m \u001b[0;32mnot\u001b[0m \u001b[0mself\u001b[0m\u001b[0;34m.\u001b[0m\u001b[0mis_compatible_with\u001b[0m\u001b[0;34m(\u001b[0m\u001b[0mother\u001b[0m\u001b[0;34m)\u001b[0m\u001b[0;34m:\u001b[0m\u001b[0;34m\u001b[0m\u001b[0;34m\u001b[0m\u001b[0m\n\u001b[1;32m    281\u001b[0m       raise ValueError(\"Dimensions %s and %s are not compatible\" %\n\u001b[0;32m--> 282\u001b[0;31m                        (self, other))\n\u001b[0m\u001b[1;32m    283\u001b[0m \u001b[0;34m\u001b[0m\u001b[0m\n\u001b[1;32m    284\u001b[0m   \u001b[0;32mdef\u001b[0m \u001b[0mmerge_with\u001b[0m\u001b[0;34m(\u001b[0m\u001b[0mself\u001b[0m\u001b[0;34m,\u001b[0m \u001b[0mother\u001b[0m\u001b[0;34m)\u001b[0m\u001b[0;34m:\u001b[0m\u001b[0;34m\u001b[0m\u001b[0;34m\u001b[0m\u001b[0m\n",
            "\u001b[0;31mValueError\u001b[0m: Dimensions 80 and 20 are not compatible"
          ]
        }
      ]
    },
    {
      "cell_type": "code",
      "metadata": {
        "id": "7YQeb5-GA2zl"
      },
      "source": [
        "ls=tf.keras.losses.SparseCategoricalCrossentropy(from_logits=True)\n",
        "model.compile(optimizer='adam',loss=[loss,loss],metrics=['accuracy'])"
      ],
      "execution_count": null,
      "outputs": []
    },
    {
      "cell_type": "code",
      "metadata": {
        "colab": {
          "base_uri": "https://localhost:8080/"
        },
        "id": "dBNfDimrwOFg",
        "outputId": "e5957677-6895-4d8b-f909-65ae95fd355e"
      },
      "source": [
        "model.fit(x=[que_pad,con_pad],y=[start_ind,end_ind],batch_size=80,epochs=15)"
      ],
      "execution_count": null,
      "outputs": [
        {
          "output_type": "stream",
          "text": [
            "Epoch 1/15\n",
            "WARNING:tensorflow:From /usr/local/lib/python3.7/dist-packages/tensorflow/python/util/deprecation.py:605: calling map_fn_v2 (from tensorflow.python.ops.map_fn) with dtype is deprecated and will be removed in a future version.\n",
            "Instructions for updating:\n",
            "Use fn_output_signature instead\n",
            "1078/1078 [==============================] - 486s 440ms/step - loss: 7.4742 - tf.compat.v1.nn.softmax_1_loss: 3.8555 - tf.compat.v1.nn.softmax_2_loss: 3.6188 - tf.compat.v1.nn.softmax_1_accuracy: 0.1189 - tf.compat.v1.nn.softmax_2_accuracy: 0.1268\n",
            "Epoch 2/15\n",
            "1078/1078 [==============================] - 475s 440ms/step - loss: 5.3684 - tf.compat.v1.nn.softmax_1_loss: 2.8089 - tf.compat.v1.nn.softmax_2_loss: 2.5595 - tf.compat.v1.nn.softmax_1_accuracy: 0.2758 - tf.compat.v1.nn.softmax_2_accuracy: 0.2985\n",
            "Epoch 3/15\n",
            "1078/1078 [==============================] - 477s 442ms/step - loss: 4.5391 - tf.compat.v1.nn.softmax_1_loss: 2.3839 - tf.compat.v1.nn.softmax_2_loss: 2.1552 - tf.compat.v1.nn.softmax_1_accuracy: 0.3666 - tf.compat.v1.nn.softmax_2_accuracy: 0.3918\n",
            "Epoch 4/15\n",
            "1078/1078 [==============================] - 477s 442ms/step - loss: 3.3824 - tf.compat.v1.nn.softmax_1_loss: 1.8028 - tf.compat.v1.nn.softmax_2_loss: 1.5796 - tf.compat.v1.nn.softmax_1_accuracy: 0.5042 - tf.compat.v1.nn.softmax_2_accuracy: 0.5507\n",
            "Epoch 5/15\n",
            "1078/1078 [==============================] - 477s 442ms/step - loss: 2.8741 - tf.compat.v1.nn.softmax_1_loss: 1.5451 - tf.compat.v1.nn.softmax_2_loss: 1.3290 - tf.compat.v1.nn.softmax_1_accuracy: 0.5690 - tf.compat.v1.nn.softmax_2_accuracy: 0.6144\n",
            "Epoch 6/15\n",
            "1078/1078 [==============================] - 476s 442ms/step - loss: 2.5616 - tf.compat.v1.nn.softmax_1_loss: 1.3810 - tf.compat.v1.nn.softmax_2_loss: 1.1806 - tf.compat.v1.nn.softmax_1_accuracy: 0.6072 - tf.compat.v1.nn.softmax_2_accuracy: 0.6522\n",
            "Epoch 7/15\n",
            "1078/1078 [==============================] - 477s 442ms/step - loss: 2.2651 - tf.compat.v1.nn.softmax_1_loss: 1.2367 - tf.compat.v1.nn.softmax_2_loss: 1.0284 - tf.compat.v1.nn.softmax_1_accuracy: 0.6403 - tf.compat.v1.nn.softmax_2_accuracy: 0.6905\n",
            "Epoch 8/15\n",
            "1078/1078 [==============================] - 476s 442ms/step - loss: 2.0066 - tf.compat.v1.nn.softmax_1_loss: 1.1097 - tf.compat.v1.nn.softmax_2_loss: 0.8969 - tf.compat.v1.nn.softmax_1_accuracy: 0.6704 - tf.compat.v1.nn.softmax_2_accuracy: 0.7259\n",
            "Epoch 9/15\n",
            "1078/1078 [==============================] - 476s 442ms/step - loss: 1.7975 - tf.compat.v1.nn.softmax_1_loss: 1.0017 - tf.compat.v1.nn.softmax_2_loss: 0.7958 - tf.compat.v1.nn.softmax_1_accuracy: 0.7012 - tf.compat.v1.nn.softmax_2_accuracy: 0.7522\n",
            "Epoch 10/15\n",
            "1078/1078 [==============================] - 476s 441ms/step - loss: 1.5541 - tf.compat.v1.nn.softmax_1_loss: 0.8812 - tf.compat.v1.nn.softmax_2_loss: 0.6728 - tf.compat.v1.nn.softmax_1_accuracy: 0.7284 - tf.compat.v1.nn.softmax_2_accuracy: 0.7872\n",
            "Epoch 11/15\n",
            "1078/1078 [==============================] - 475s 441ms/step - loss: 1.3750 - tf.compat.v1.nn.softmax_1_loss: 0.7922 - tf.compat.v1.nn.softmax_2_loss: 0.5828 - tf.compat.v1.nn.softmax_1_accuracy: 0.7531 - tf.compat.v1.nn.softmax_2_accuracy: 0.8128\n",
            "Epoch 12/15\n",
            "1078/1078 [==============================] - 476s 441ms/step - loss: 1.1915 - tf.compat.v1.nn.softmax_1_loss: 0.6950 - tf.compat.v1.nn.softmax_2_loss: 0.4964 - tf.compat.v1.nn.softmax_1_accuracy: 0.7813 - tf.compat.v1.nn.softmax_2_accuracy: 0.8388\n",
            "Epoch 13/15\n",
            "1078/1078 [==============================] - 476s 442ms/step - loss: 1.0605 - tf.compat.v1.nn.softmax_1_loss: 0.6306 - tf.compat.v1.nn.softmax_2_loss: 0.4300 - tf.compat.v1.nn.softmax_1_accuracy: 0.8000 - tf.compat.v1.nn.softmax_2_accuracy: 0.8590\n",
            "Epoch 14/15\n",
            "1078/1078 [==============================] - 476s 441ms/step - loss: 0.9343 - tf.compat.v1.nn.softmax_1_loss: 0.5634 - tf.compat.v1.nn.softmax_2_loss: 0.3709 - tf.compat.v1.nn.softmax_1_accuracy: 0.8194 - tf.compat.v1.nn.softmax_2_accuracy: 0.8789\n",
            "Epoch 15/15\n",
            "1078/1078 [==============================] - 476s 441ms/step - loss: 0.8081 - tf.compat.v1.nn.softmax_1_loss: 0.4978 - tf.compat.v1.nn.softmax_2_loss: 0.3102 - tf.compat.v1.nn.softmax_1_accuracy: 0.8398 - tf.compat.v1.nn.softmax_2_accuracy: 0.8959\n"
          ],
          "name": "stdout"
        },
        {
          "output_type": "execute_result",
          "data": {
            "text/plain": [
              "<tensorflow.python.keras.callbacks.History at 0x7fc9de891b50>"
            ]
          },
          "metadata": {
            "tags": []
          },
          "execution_count": 45
        }
      ]
    },
    {
      "cell_type": "markdown",
      "metadata": {
        "id": "pyqwUP-sAucn"
      },
      "source": [
        "# Save the model"
      ]
    },
    {
      "cell_type": "code",
      "metadata": {
        "id": "GKpX7wFMxRNr"
      },
      "source": [
        "path='/content/drive/MyDrive/qna/1'"
      ],
      "execution_count": null,
      "outputs": []
    },
    {
      "cell_type": "code",
      "metadata": {
        "colab": {
          "base_uri": "https://localhost:8080/"
        },
        "id": "roIeZvDdVHyt",
        "outputId": "f34eaa02-dc20-402a-bc55-b6604a7461f4"
      },
      "source": [
        "model.save(path)"
      ],
      "execution_count": null,
      "outputs": [
        {
          "output_type": "stream",
          "text": [
            "WARNING:absl:Found untraced functions such as lstm_cell_4_layer_call_fn, lstm_cell_4_layer_call_and_return_conditional_losses, lstm_cell_5_layer_call_fn, lstm_cell_5_layer_call_and_return_conditional_losses, lstm_cell_1_layer_call_fn while saving (showing 5 of 50). These functions will not be directly callable after loading.\n",
            "WARNING:absl:Found untraced functions such as lstm_cell_4_layer_call_fn, lstm_cell_4_layer_call_and_return_conditional_losses, lstm_cell_5_layer_call_fn, lstm_cell_5_layer_call_and_return_conditional_losses, lstm_cell_1_layer_call_fn while saving (showing 5 of 50). These functions will not be directly callable after loading.\n"
          ],
          "name": "stderr"
        },
        {
          "output_type": "stream",
          "text": [
            "INFO:tensorflow:Assets written to: /content/drive/MyDrive/qna/1/assets\n"
          ],
          "name": "stdout"
        },
        {
          "output_type": "stream",
          "text": [
            "INFO:tensorflow:Assets written to: /content/drive/MyDrive/qna/1/assets\n"
          ],
          "name": "stderr"
        }
      ]
    },
    {
      "cell_type": "code",
      "metadata": {
        "colab": {
          "base_uri": "https://localhost:8080/"
        },
        "id": "nO60KWf3BkSq",
        "outputId": "b4d06248-d9cf-4016-8542-ac99600cd11b"
      },
      "source": [
        "!saved_model_cli show --dir {path} --all"
      ],
      "execution_count": null,
      "outputs": [
        {
          "output_type": "stream",
          "text": [
            "\n",
            "MetaGraphDef with tag-set: 'serve' contains the following SignatureDefs:\n",
            "\n",
            "signature_def['__saved_model_init_op']:\n",
            "  The given SavedModel SignatureDef contains the following input(s):\n",
            "  The given SavedModel SignatureDef contains the following output(s):\n",
            "    outputs['__saved_model_init_op'] tensor_info:\n",
            "        dtype: DT_INVALID\n",
            "        shape: unknown_rank\n",
            "        name: NoOp\n",
            "  Method name is: \n",
            "\n",
            "signature_def['serving_default']:\n",
            "  The given SavedModel SignatureDef contains the following input(s):\n",
            "    inputs['input_1'] tensor_info:\n",
            "        dtype: DT_FLOAT\n",
            "        shape: (-1, 40)\n",
            "        name: serving_default_input_1:0\n",
            "    inputs['input_2'] tensor_info:\n",
            "        dtype: DT_FLOAT\n",
            "        shape: (-1, 306)\n",
            "        name: serving_default_input_2:0\n",
            "  The given SavedModel SignatureDef contains the following output(s):\n",
            "    outputs['tf.compat.v1.nn.softmax_1'] tensor_info:\n",
            "        dtype: DT_FLOAT\n",
            "        shape: (-1, 306)\n",
            "        name: StatefulPartitionedCall:0\n",
            "    outputs['tf.compat.v1.nn.softmax_2'] tensor_info:\n",
            "        dtype: DT_FLOAT\n",
            "        shape: (-1, 306)\n",
            "        name: StatefulPartitionedCall:1\n",
            "  Method name is: tensorflow/serving/predict\n",
            "WARNING: Logging before flag parsing goes to stderr.\n",
            "W0503 17:44:27.749644 140267436701568 deprecation.py:506] From /usr/local/lib/python2.7/dist-packages/tensorflow_core/python/ops/resource_variable_ops.py:1786: calling __init__ (from tensorflow.python.ops.resource_variable_ops) with constraint is deprecated and will be removed in a future version.\n",
            "Instructions for updating:\n",
            "If using Keras pass *_constraint arguments to layers.\n",
            "\n",
            "Defined Functions:\n",
            "  Function Name: '__call__'\n",
            "    Option #1\n",
            "      Callable with:\n",
            "        Argument #1\n",
            "          DType: list\n",
            "          Value: [TensorSpec(shape=(None, 40), dtype=tf.float32, name=u'inputs/0'), TensorSpec(shape=(None, 306), dtype=tf.float32, name=u'inputs/1'), \b\b]\n",
            "        Argument #2\n",
            "          DType: bool\n",
            "          Value: False\n",
            "        Argument #3\n",
            "          DType: NoneType\n",
            "          Value: None\n",
            "    Option #2\n",
            "      Callable with:\n",
            "        Argument #1\n",
            "          DType: list\n",
            "          Value: [TensorSpec(shape=(None, 40), dtype=tf.float32, name=u'input_1'), TensorSpec(shape=(None, 306), dtype=tf.float32, name=u'input_2'), \b\b]\n",
            "        Argument #2\n",
            "          DType: bool\n",
            "          Value: False\n",
            "        Argument #3\n",
            "          DType: NoneType\n",
            "          Value: None\n",
            "    Option #3\n",
            "      Callable with:\n",
            "        Argument #1\n",
            "          DType: list\n",
            "          Value: [TensorSpec(shape=(None, 40), dtype=tf.float32, name=u'input_1'), TensorSpec(shape=(None, 306), dtype=tf.float32, name=u'input_2'), \b\b]\n",
            "        Argument #2\n",
            "          DType: bool\n",
            "          Value: True\n",
            "        Argument #3\n",
            "          DType: NoneType\n",
            "          Value: None\n",
            "    Option #4\n",
            "      Callable with:\n",
            "        Argument #1\n",
            "          DType: list\n",
            "          Value: [TensorSpec(shape=(None, 40), dtype=tf.float32, name=u'inputs/0'), TensorSpec(shape=(None, 306), dtype=tf.float32, name=u'inputs/1'), \b\b]\n",
            "        Argument #2\n",
            "          DType: bool\n",
            "          Value: True\n",
            "        Argument #3\n",
            "          DType: NoneType\n",
            "          Value: None\n",
            "\n",
            "  Function Name: '_default_save_signature'\n",
            "    Option #1\n",
            "      Callable with:\n",
            "        Argument #1\n",
            "          DType: list\n",
            "          Value: [TensorSpec(shape=(None, 40), dtype=tf.float32, name=u'input_1'), TensorSpec(shape=(None, 306), dtype=tf.float32, name=u'input_2'), \b\b]\n",
            "\n",
            "  Function Name: 'call_and_return_all_conditional_losses'\n",
            "    Option #1\n",
            "      Callable with:\n",
            "        Argument #1\n",
            "          DType: list\n",
            "          Value: [TensorSpec(shape=(None, 40), dtype=tf.float32, name=u'inputs/0'), TensorSpec(shape=(None, 306), dtype=tf.float32, name=u'inputs/1'), \b\b]\n",
            "        Argument #2\n",
            "          DType: bool\n",
            "          Value: False\n",
            "        Argument #3\n",
            "          DType: NoneType\n",
            "          Value: None\n",
            "    Option #2\n",
            "      Callable with:\n",
            "        Argument #1\n",
            "          DType: list\n",
            "          Value: [TensorSpec(shape=(None, 40), dtype=tf.float32, name=u'input_1'), TensorSpec(shape=(None, 306), dtype=tf.float32, name=u'input_2'), \b\b]\n",
            "        Argument #2\n",
            "          DType: bool\n",
            "          Value: False\n",
            "        Argument #3\n",
            "          DType: NoneType\n",
            "          Value: None\n",
            "    Option #3\n",
            "      Callable with:\n",
            "        Argument #1\n",
            "          DType: list\n",
            "          Value: [TensorSpec(shape=(None, 40), dtype=tf.float32, name=u'input_1'), TensorSpec(shape=(None, 306), dtype=tf.float32, name=u'input_2'), \b\b]\n",
            "        Argument #2\n",
            "          DType: bool\n",
            "          Value: True\n",
            "        Argument #3\n",
            "          DType: NoneType\n",
            "          Value: None\n",
            "    Option #4\n",
            "      Callable with:\n",
            "        Argument #1\n",
            "          DType: list\n",
            "          Value: [TensorSpec(shape=(None, 40), dtype=tf.float32, name=u'inputs/0'), TensorSpec(shape=(None, 306), dtype=tf.float32, name=u'inputs/1'), \b\b]\n",
            "        Argument #2\n",
            "          DType: bool\n",
            "          Value: True\n",
            "        Argument #3\n",
            "          DType: NoneType\n",
            "          Value: None\n"
          ],
          "name": "stdout"
        }
      ]
    },
    {
      "cell_type": "code",
      "metadata": {
        "id": "2obPO4phg8U0"
      },
      "source": [
        ""
      ],
      "execution_count": null,
      "outputs": []
    }
  ]
}